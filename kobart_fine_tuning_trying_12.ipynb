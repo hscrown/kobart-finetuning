{
  "cells": [
    {
      "cell_type": "markdown",
      "metadata": {
        "id": "view-in-github",
        "colab_type": "text"
      },
      "source": [
        "<a href=\"https://colab.research.google.com/github/hscrown/kobart-finetuning/blob/main/kobart_fine_tuning_trying_12.ipynb\" target=\"_parent\"><img src=\"https://colab.research.google.com/assets/colab-badge.svg\" alt=\"Open In Colab\"/></a>"
      ]
    },
    {
      "cell_type": "code",
      "execution_count": 1,
      "id": "f6708905",
      "metadata": {
        "ExecuteTime": {
          "end_time": "2023-09-20T05:34:36.502201Z",
          "start_time": "2023-09-20T05:34:36.498889Z"
        },
        "colab": {
          "base_uri": "https://localhost:8080/"
        },
        "id": "f6708905",
        "outputId": "60f9baeb-1bdb-48a0-8561-eec30045ff1f"
      },
      "outputs": [
        {
          "output_type": "stream",
          "name": "stdout",
          "text": [
            "Requirement already satisfied: transformers in /usr/local/lib/python3.10/dist-packages (4.41.2)\n",
            "Requirement already satisfied: tensorflow in /usr/local/lib/python3.10/dist-packages (2.15.0)\n",
            "Collecting rouge\n",
            "  Downloading rouge-1.0.1-py3-none-any.whl (13 kB)\n",
            "Requirement already satisfied: nltk in /usr/local/lib/python3.10/dist-packages (3.8.1)\n",
            "Requirement already satisfied: filelock in /usr/local/lib/python3.10/dist-packages (from transformers) (3.14.0)\n",
            "Requirement already satisfied: huggingface-hub<1.0,>=0.23.0 in /usr/local/lib/python3.10/dist-packages (from transformers) (0.23.3)\n",
            "Requirement already satisfied: numpy>=1.17 in /usr/local/lib/python3.10/dist-packages (from transformers) (1.25.2)\n",
            "Requirement already satisfied: packaging>=20.0 in /usr/local/lib/python3.10/dist-packages (from transformers) (24.1)\n",
            "Requirement already satisfied: pyyaml>=5.1 in /usr/local/lib/python3.10/dist-packages (from transformers) (6.0.1)\n",
            "Requirement already satisfied: regex!=2019.12.17 in /usr/local/lib/python3.10/dist-packages (from transformers) (2024.5.15)\n",
            "Requirement already satisfied: requests in /usr/local/lib/python3.10/dist-packages (from transformers) (2.31.0)\n",
            "Requirement already satisfied: tokenizers<0.20,>=0.19 in /usr/local/lib/python3.10/dist-packages (from transformers) (0.19.1)\n",
            "Requirement already satisfied: safetensors>=0.4.1 in /usr/local/lib/python3.10/dist-packages (from transformers) (0.4.3)\n",
            "Requirement already satisfied: tqdm>=4.27 in /usr/local/lib/python3.10/dist-packages (from transformers) (4.66.4)\n",
            "Requirement already satisfied: absl-py>=1.0.0 in /usr/local/lib/python3.10/dist-packages (from tensorflow) (1.4.0)\n",
            "Requirement already satisfied: astunparse>=1.6.0 in /usr/local/lib/python3.10/dist-packages (from tensorflow) (1.6.3)\n",
            "Requirement already satisfied: flatbuffers>=23.5.26 in /usr/local/lib/python3.10/dist-packages (from tensorflow) (24.3.25)\n",
            "Requirement already satisfied: gast!=0.5.0,!=0.5.1,!=0.5.2,>=0.2.1 in /usr/local/lib/python3.10/dist-packages (from tensorflow) (0.5.4)\n",
            "Requirement already satisfied: google-pasta>=0.1.1 in /usr/local/lib/python3.10/dist-packages (from tensorflow) (0.2.0)\n",
            "Requirement already satisfied: h5py>=2.9.0 in /usr/local/lib/python3.10/dist-packages (from tensorflow) (3.9.0)\n",
            "Requirement already satisfied: libclang>=13.0.0 in /usr/local/lib/python3.10/dist-packages (from tensorflow) (18.1.1)\n",
            "Requirement already satisfied: ml-dtypes~=0.2.0 in /usr/local/lib/python3.10/dist-packages (from tensorflow) (0.2.0)\n",
            "Requirement already satisfied: opt-einsum>=2.3.2 in /usr/local/lib/python3.10/dist-packages (from tensorflow) (3.3.0)\n",
            "Requirement already satisfied: protobuf!=4.21.0,!=4.21.1,!=4.21.2,!=4.21.3,!=4.21.4,!=4.21.5,<5.0.0dev,>=3.20.3 in /usr/local/lib/python3.10/dist-packages (from tensorflow) (3.20.3)\n",
            "Requirement already satisfied: setuptools in /usr/local/lib/python3.10/dist-packages (from tensorflow) (67.7.2)\n",
            "Requirement already satisfied: six>=1.12.0 in /usr/local/lib/python3.10/dist-packages (from tensorflow) (1.16.0)\n",
            "Requirement already satisfied: termcolor>=1.1.0 in /usr/local/lib/python3.10/dist-packages (from tensorflow) (2.4.0)\n",
            "Requirement already satisfied: typing-extensions>=3.6.6 in /usr/local/lib/python3.10/dist-packages (from tensorflow) (4.12.2)\n",
            "Requirement already satisfied: wrapt<1.15,>=1.11.0 in /usr/local/lib/python3.10/dist-packages (from tensorflow) (1.14.1)\n",
            "Requirement already satisfied: tensorflow-io-gcs-filesystem>=0.23.1 in /usr/local/lib/python3.10/dist-packages (from tensorflow) (0.37.0)\n",
            "Requirement already satisfied: grpcio<2.0,>=1.24.3 in /usr/local/lib/python3.10/dist-packages (from tensorflow) (1.64.1)\n",
            "Requirement already satisfied: tensorboard<2.16,>=2.15 in /usr/local/lib/python3.10/dist-packages (from tensorflow) (2.15.2)\n",
            "Requirement already satisfied: tensorflow-estimator<2.16,>=2.15.0 in /usr/local/lib/python3.10/dist-packages (from tensorflow) (2.15.0)\n",
            "Requirement already satisfied: keras<2.16,>=2.15.0 in /usr/local/lib/python3.10/dist-packages (from tensorflow) (2.15.0)\n",
            "Requirement already satisfied: click in /usr/local/lib/python3.10/dist-packages (from nltk) (8.1.7)\n",
            "Requirement already satisfied: joblib in /usr/local/lib/python3.10/dist-packages (from nltk) (1.4.2)\n",
            "Requirement already satisfied: wheel<1.0,>=0.23.0 in /usr/local/lib/python3.10/dist-packages (from astunparse>=1.6.0->tensorflow) (0.43.0)\n",
            "Requirement already satisfied: fsspec>=2023.5.0 in /usr/local/lib/python3.10/dist-packages (from huggingface-hub<1.0,>=0.23.0->transformers) (2023.6.0)\n",
            "Requirement already satisfied: google-auth<3,>=1.6.3 in /usr/local/lib/python3.10/dist-packages (from tensorboard<2.16,>=2.15->tensorflow) (2.27.0)\n",
            "Requirement already satisfied: google-auth-oauthlib<2,>=0.5 in /usr/local/lib/python3.10/dist-packages (from tensorboard<2.16,>=2.15->tensorflow) (1.2.0)\n",
            "Requirement already satisfied: markdown>=2.6.8 in /usr/local/lib/python3.10/dist-packages (from tensorboard<2.16,>=2.15->tensorflow) (3.6)\n",
            "Requirement already satisfied: tensorboard-data-server<0.8.0,>=0.7.0 in /usr/local/lib/python3.10/dist-packages (from tensorboard<2.16,>=2.15->tensorflow) (0.7.2)\n",
            "Requirement already satisfied: werkzeug>=1.0.1 in /usr/local/lib/python3.10/dist-packages (from tensorboard<2.16,>=2.15->tensorflow) (3.0.3)\n",
            "Requirement already satisfied: charset-normalizer<4,>=2 in /usr/local/lib/python3.10/dist-packages (from requests->transformers) (3.3.2)\n",
            "Requirement already satisfied: idna<4,>=2.5 in /usr/local/lib/python3.10/dist-packages (from requests->transformers) (3.7)\n",
            "Requirement already satisfied: urllib3<3,>=1.21.1 in /usr/local/lib/python3.10/dist-packages (from requests->transformers) (2.0.7)\n",
            "Requirement already satisfied: certifi>=2017.4.17 in /usr/local/lib/python3.10/dist-packages (from requests->transformers) (2024.6.2)\n",
            "Requirement already satisfied: cachetools<6.0,>=2.0.0 in /usr/local/lib/python3.10/dist-packages (from google-auth<3,>=1.6.3->tensorboard<2.16,>=2.15->tensorflow) (5.3.3)\n",
            "Requirement already satisfied: pyasn1-modules>=0.2.1 in /usr/local/lib/python3.10/dist-packages (from google-auth<3,>=1.6.3->tensorboard<2.16,>=2.15->tensorflow) (0.4.0)\n",
            "Requirement already satisfied: rsa<5,>=3.1.4 in /usr/local/lib/python3.10/dist-packages (from google-auth<3,>=1.6.3->tensorboard<2.16,>=2.15->tensorflow) (4.9)\n",
            "Requirement already satisfied: requests-oauthlib>=0.7.0 in /usr/local/lib/python3.10/dist-packages (from google-auth-oauthlib<2,>=0.5->tensorboard<2.16,>=2.15->tensorflow) (1.3.1)\n",
            "Requirement already satisfied: MarkupSafe>=2.1.1 in /usr/local/lib/python3.10/dist-packages (from werkzeug>=1.0.1->tensorboard<2.16,>=2.15->tensorflow) (2.1.5)\n",
            "Requirement already satisfied: pyasn1<0.7.0,>=0.4.6 in /usr/local/lib/python3.10/dist-packages (from pyasn1-modules>=0.2.1->google-auth<3,>=1.6.3->tensorboard<2.16,>=2.15->tensorflow) (0.6.0)\n",
            "Requirement already satisfied: oauthlib>=3.0.0 in /usr/local/lib/python3.10/dist-packages (from requests-oauthlib>=0.7.0->google-auth-oauthlib<2,>=0.5->tensorboard<2.16,>=2.15->tensorflow) (3.2.2)\n",
            "Installing collected packages: rouge\n",
            "Successfully installed rouge-1.0.1\n"
          ]
        }
      ],
      "source": [
        "!pip install transformers tensorflow rouge nltk"
      ]
    },
    {
      "cell_type": "code",
      "source": [
        "from google.colab import drive\n",
        "drive.mount('/content/drive')"
      ],
      "metadata": {
        "colab": {
          "base_uri": "https://localhost:8080/"
        },
        "id": "tBDVGUUnAMtM",
        "outputId": "4e7b8bd9-80df-4096-b5c5-1f5181e9a5b1"
      },
      "id": "tBDVGUUnAMtM",
      "execution_count": 2,
      "outputs": [
        {
          "output_type": "stream",
          "name": "stdout",
          "text": [
            "Mounted at /content/drive\n"
          ]
        }
      ]
    },
    {
      "cell_type": "code",
      "source": [
        "import os\n",
        "os.environ[\"CUDA_VISIBLE_DEVICES\"] = \"0\"\n",
        "\n",
        "\n",
        "# import os\n",
        "# os.environ[\"CUDA_VISIBLE_DEVICES\"] = \"-1\""
      ],
      "metadata": {
        "id": "YsZJYLO5APyj"
      },
      "id": "YsZJYLO5APyj",
      "execution_count": 3,
      "outputs": []
    },
    {
      "cell_type": "code",
      "source": [
        "import torch\n",
        "print(torch.cuda.is_available())\n",
        "# '''\n",
        "#   CPU 환경일 경우: False\n",
        "#   GPU 환경일 경우: True\n",
        "# '''"
      ],
      "metadata": {
        "colab": {
          "base_uri": "https://localhost:8080/"
        },
        "id": "klRPFZ5XASZj",
        "outputId": "7040ba63-6012-4c25-9c49-872116ad1bad"
      },
      "id": "klRPFZ5XASZj",
      "execution_count": 4,
      "outputs": [
        {
          "output_type": "stream",
          "name": "stdout",
          "text": [
            "True\n"
          ]
        }
      ]
    },
    {
      "cell_type": "code",
      "source": [
        "# transformers 버전  다운그레이드\n",
        "!pip install transformers==4.28.0"
      ],
      "metadata": {
        "colab": {
          "base_uri": "https://localhost:8080/"
        },
        "id": "4Mwv4ZPL6O_a",
        "outputId": "ad0c3a5b-deb7-46f6-e3e4-0a1f13cbb431"
      },
      "id": "4Mwv4ZPL6O_a",
      "execution_count": 5,
      "outputs": [
        {
          "output_type": "stream",
          "name": "stdout",
          "text": [
            "Collecting transformers==4.28.0\n",
            "  Downloading transformers-4.28.0-py3-none-any.whl (7.0 MB)\n",
            "\u001b[2K     \u001b[90m━━━━━━━━━━━━━━━━━━━━━━━━━━━━━━━━━━━━━━━━\u001b[0m \u001b[32m7.0/7.0 MB\u001b[0m \u001b[31m44.7 MB/s\u001b[0m eta \u001b[36m0:00:00\u001b[0m\n",
            "\u001b[?25hRequirement already satisfied: filelock in /usr/local/lib/python3.10/dist-packages (from transformers==4.28.0) (3.14.0)\n",
            "Requirement already satisfied: huggingface-hub<1.0,>=0.11.0 in /usr/local/lib/python3.10/dist-packages (from transformers==4.28.0) (0.23.3)\n",
            "Requirement already satisfied: numpy>=1.17 in /usr/local/lib/python3.10/dist-packages (from transformers==4.28.0) (1.25.2)\n",
            "Requirement already satisfied: packaging>=20.0 in /usr/local/lib/python3.10/dist-packages (from transformers==4.28.0) (24.1)\n",
            "Requirement already satisfied: pyyaml>=5.1 in /usr/local/lib/python3.10/dist-packages (from transformers==4.28.0) (6.0.1)\n",
            "Requirement already satisfied: regex!=2019.12.17 in /usr/local/lib/python3.10/dist-packages (from transformers==4.28.0) (2024.5.15)\n",
            "Requirement already satisfied: requests in /usr/local/lib/python3.10/dist-packages (from transformers==4.28.0) (2.31.0)\n",
            "Collecting tokenizers!=0.11.3,<0.14,>=0.11.1 (from transformers==4.28.0)\n",
            "  Downloading tokenizers-0.13.3-cp310-cp310-manylinux_2_17_x86_64.manylinux2014_x86_64.whl (7.8 MB)\n",
            "\u001b[2K     \u001b[90m━━━━━━━━━━━━━━━━━━━━━━━━━━━━━━━━━━━━━━━━\u001b[0m \u001b[32m7.8/7.8 MB\u001b[0m \u001b[31m82.1 MB/s\u001b[0m eta \u001b[36m0:00:00\u001b[0m\n",
            "\u001b[?25hRequirement already satisfied: tqdm>=4.27 in /usr/local/lib/python3.10/dist-packages (from transformers==4.28.0) (4.66.4)\n",
            "Requirement already satisfied: fsspec>=2023.5.0 in /usr/local/lib/python3.10/dist-packages (from huggingface-hub<1.0,>=0.11.0->transformers==4.28.0) (2023.6.0)\n",
            "Requirement already satisfied: typing-extensions>=3.7.4.3 in /usr/local/lib/python3.10/dist-packages (from huggingface-hub<1.0,>=0.11.0->transformers==4.28.0) (4.12.2)\n",
            "Requirement already satisfied: charset-normalizer<4,>=2 in /usr/local/lib/python3.10/dist-packages (from requests->transformers==4.28.0) (3.3.2)\n",
            "Requirement already satisfied: idna<4,>=2.5 in /usr/local/lib/python3.10/dist-packages (from requests->transformers==4.28.0) (3.7)\n",
            "Requirement already satisfied: urllib3<3,>=1.21.1 in /usr/local/lib/python3.10/dist-packages (from requests->transformers==4.28.0) (2.0.7)\n",
            "Requirement already satisfied: certifi>=2017.4.17 in /usr/local/lib/python3.10/dist-packages (from requests->transformers==4.28.0) (2024.6.2)\n",
            "Installing collected packages: tokenizers, transformers\n",
            "  Attempting uninstall: tokenizers\n",
            "    Found existing installation: tokenizers 0.19.1\n",
            "    Uninstalling tokenizers-0.19.1:\n",
            "      Successfully uninstalled tokenizers-0.19.1\n",
            "  Attempting uninstall: transformers\n",
            "    Found existing installation: transformers 4.41.2\n",
            "    Uninstalling transformers-4.41.2:\n",
            "      Successfully uninstalled transformers-4.41.2\n",
            "Successfully installed tokenizers-0.13.3 transformers-4.28.0\n"
          ]
        }
      ]
    },
    {
      "cell_type": "markdown",
      "id": "302444e9",
      "metadata": {
        "ExecuteTime": {
          "end_time": "2023-09-20T05:30:17.053486Z",
          "start_time": "2023-09-20T05:30:12.036657Z"
        },
        "id": "302444e9"
      },
      "source": [
        "# 데이터로드 및 전처리"
      ]
    },
    {
      "cell_type": "code",
      "execution_count": 6,
      "id": "8ba1f28b",
      "metadata": {
        "ExecuteTime": {
          "end_time": "2023-09-20T05:34:40.202788Z",
          "start_time": "2023-09-20T05:34:36.502201Z"
        },
        "scrolled": true,
        "id": "8ba1f28b",
        "colab": {
          "base_uri": "https://localhost:8080/",
          "height": 278,
          "referenced_widgets": [
            "07057daffa154f6f95b19ebf8a42e504",
            "5d886682af5f48febe40b526fc5f37a0",
            "996b2cbabfee47e782a74701062a4653",
            "0ca9f09de84842ffb8217a3ef95f4a18",
            "149c5463bf8a48d9b16f7ece42336659",
            "a98950fe3e6f430494c642b0b602de75",
            "86179e4207244230819b485080d1f61c",
            "c1f60dd942934391803f9b156d131e92",
            "c74b4482ed044f5cb49c703e803bf6b2",
            "d7559ab78c2c406ab9989072efa9602b",
            "dcfd2bfcd8134755b50d0e3cce9682dd",
            "8d50959d970f44d99464e7e5204f22d0",
            "cdcf3bf207434301aea62000c7d6080e",
            "641d687dd3b047c49db20134e988c957",
            "11287c2814254402b01412ecd0a2e0ae",
            "dcaeeb46feb44afbae4f6d159333c108",
            "fb1de2701ae34af9917e4094e3ae152f",
            "43e2417485514bb4b02f4e85984aa89c",
            "25873d37961e4a57bee2ab283979ef0b",
            "c3050a29b20646e2bee95552bf62e386",
            "bdcd0dad71ff4626aab6381145980e81",
            "3ccf0a4cb7b041f4b66ad98ad50f6c9a",
            "2abba0ffae744795923cdd4e63d09e8f",
            "03788039dcd2478f9136e31a18aa0451",
            "61d8c9b65ff8482185026f2854b8100f",
            "ab6c55e0684b4b39bec1543af7c96293",
            "c1852dea86604f0bb5c6e91c885ba10a",
            "8ad6b7fa4c9843f99a5051853f204678",
            "b033c50b4a6f4933b312a3b599124aef",
            "000ce162746d45bd93dd4caada72c94a",
            "7ecadbdfac1a4f96b4b07c08b2b2cdf0",
            "81f7e4b4b47a401e8ed78e6c8b97bc67",
            "35fe63e526374d2f8f23f3c40aeac4ac"
          ]
        },
        "outputId": "26329eef-1cfd-429f-82c0-a6db5b67de11"
      },
      "outputs": [
        {
          "output_type": "stream",
          "name": "stderr",
          "text": [
            "/usr/local/lib/python3.10/dist-packages/huggingface_hub/file_download.py:1132: FutureWarning: `resume_download` is deprecated and will be removed in version 1.0.0. Downloads always resume when possible. If you want to force a new download, use `force_download=True`.\n",
            "  warnings.warn(\n",
            "/usr/local/lib/python3.10/dist-packages/huggingface_hub/utils/_token.py:89: UserWarning: \n",
            "The secret `HF_TOKEN` does not exist in your Colab secrets.\n",
            "To authenticate with the Hugging Face Hub, create a token in your settings tab (https://huggingface.co/settings/tokens), set it as secret in your Google Colab and restart your session.\n",
            "You will be able to reuse this secret in all of your notebooks.\n",
            "Please note that authentication is recommended but still optional to access public models or datasets.\n",
            "  warnings.warn(\n"
          ]
        },
        {
          "output_type": "display_data",
          "data": {
            "text/plain": [
              "tokenizer_config.json:   0%|          | 0.00/302 [00:00<?, ?B/s]"
            ],
            "application/vnd.jupyter.widget-view+json": {
              "version_major": 2,
              "version_minor": 0,
              "model_id": "07057daffa154f6f95b19ebf8a42e504"
            }
          },
          "metadata": {}
        },
        {
          "output_type": "display_data",
          "data": {
            "text/plain": [
              "tokenizer.json:   0%|          | 0.00/682k [00:00<?, ?B/s]"
            ],
            "application/vnd.jupyter.widget-view+json": {
              "version_major": 2,
              "version_minor": 0,
              "model_id": "8d50959d970f44d99464e7e5204f22d0"
            }
          },
          "metadata": {}
        },
        {
          "output_type": "display_data",
          "data": {
            "text/plain": [
              "special_tokens_map.json:   0%|          | 0.00/239 [00:00<?, ?B/s]"
            ],
            "application/vnd.jupyter.widget-view+json": {
              "version_major": 2,
              "version_minor": 0,
              "model_id": "2abba0ffae744795923cdd4e63d09e8f"
            }
          },
          "metadata": {}
        }
      ],
      "source": [
        "import pandas as pd\n",
        "import numpy as np\n",
        "from transformers import AutoTokenizer\n",
        "from torch.nn.utils.rnn import pad_sequence\n",
        "\n",
        "# 데이터셋 로드\n",
        "data = pd.read_csv('/content/drive/MyDrive/Colab Notebooks/634_sample.csv')\n",
        "\n",
        "# 데이터셋 분할 (학습 데이터와 검증 데이터로 나누기)\n",
        "from sklearn.model_selection import train_test_split\n",
        "train_data, val_data = train_test_split(data, test_size=0.2, random_state=42)\n",
        "\n",
        "# Tokenizer 불러오기\n",
        "tokenizer = AutoTokenizer.from_pretrained(\"ainize/kobart-news\")\n",
        "\n",
        "# 데이터 전처리 함수 정의\n",
        "def preprocess_data(data, max_input_length=512, max_target_length=150):\n",
        "    input_texts = data['Text'].tolist()\n",
        "    target_texts = data['Summary'].tolist()\n",
        "\n",
        "    input_encodings = tokenizer(input_texts, truncation=True, padding='max_length', max_length=max_input_length, return_tensors='pt')\n",
        "    target_encodings = tokenizer(target_texts, truncation=True, padding='max_length', max_length=max_target_length, return_tensors='pt')\n",
        "\n",
        "    return input_encodings, target_encodings\n"
      ]
    },
    {
      "cell_type": "markdown",
      "id": "fec79637",
      "metadata": {
        "id": "fec79637"
      },
      "source": [
        "# DataLoader 설정 및 모델 불러오기"
      ]
    },
    {
      "cell_type": "code",
      "execution_count": 7,
      "id": "01f1fa59",
      "metadata": {
        "ExecuteTime": {
          "end_time": "2023-09-20T05:35:25.067099Z",
          "start_time": "2023-09-20T05:35:19.465398Z"
        },
        "colab": {
          "base_uri": "https://localhost:8080/",
          "height": 1000,
          "referenced_widgets": [
            "2410c1714bf841c08c9bf43251975d5b",
            "c9334679e8f242c4a794de34f3238abb",
            "9d1d4f88e7594a939aeba37ec714aa1c",
            "ce6ab47e712a4a82a6097333c24bad90",
            "5388e44eb97f41ce8444becd284ce057",
            "5c0b00a9db894a2f8815a534f86af681",
            "0567446aecd7438e881447cec305279c",
            "f038e973457147f3a04c0f5952f0c270",
            "b199c60090f843fdb14f169bd74cfa18",
            "16f19431bf0f4173854213fc7a5e37c2",
            "5d500855a868482ab17e2974e3800822",
            "1e2f35872b514b1d95dd4d9e0f8b8c38",
            "51221e1dc44f4ceb87b8b3b9db122edc",
            "0d47c7c459074e34aefede5849564eb3",
            "32a209d430c14bcdb8cf1fb46ef948ba",
            "b3db3cacff434fa2a458c980edfed1d8",
            "230e2abc43d54b5685f3d9b7297e93b1",
            "e6dd326c117b4194b0b06c1f2f1f0076",
            "d6bf04cf48fb4c6aaef69e4bdd36fced",
            "cd797aa2fd74414fb7faf6b480750e7f",
            "69aa48c5615f4254a54a11d1ee7a6b65",
            "d2dae5fb9433461b9d3132ff2b2ac894"
          ]
        },
        "id": "01f1fa59",
        "outputId": "72a6af57-6474-43ff-9a38-513299ec9937"
      },
      "outputs": [
        {
          "output_type": "stream",
          "name": "stderr",
          "text": [
            "<ipython-input-7-f5239fca2bb2>:20: UserWarning: To copy construct from a tensor, it is recommended to use sourceTensor.clone().detach() or sourceTensor.clone().detach().requires_grad_(True), rather than torch.tensor(sourceTensor).\n",
            "  torch.tensor(val_encodings['input_ids']),\n",
            "<ipython-input-7-f5239fca2bb2>:21: UserWarning: To copy construct from a tensor, it is recommended to use sourceTensor.clone().detach() or sourceTensor.clone().detach().requires_grad_(True), rather than torch.tensor(sourceTensor).\n",
            "  torch.tensor(val_encodings['attention_mask']),\n",
            "<ipython-input-7-f5239fca2bb2>:22: UserWarning: To copy construct from a tensor, it is recommended to use sourceTensor.clone().detach() or sourceTensor.clone().detach().requires_grad_(True), rather than torch.tensor(sourceTensor).\n",
            "  torch.tensor(val_target_encodings['input_ids']),\n"
          ]
        },
        {
          "output_type": "display_data",
          "data": {
            "text/plain": [
              "config.json:   0%|          | 0.00/1.45k [00:00<?, ?B/s]"
            ],
            "application/vnd.jupyter.widget-view+json": {
              "version_major": 2,
              "version_minor": 0,
              "model_id": "2410c1714bf841c08c9bf43251975d5b"
            }
          },
          "metadata": {}
        },
        {
          "output_type": "stream",
          "name": "stderr",
          "text": [
            "You passed along `num_labels=3` with an incompatible id to label map: {'0': 'NEGATIVE', '1': 'POSITIVE'}. The number of labels wil be overwritten to 2.\n",
            "/usr/local/lib/python3.10/dist-packages/huggingface_hub/file_download.py:1132: FutureWarning: `resume_download` is deprecated and will be removed in version 1.0.0. Downloads always resume when possible. If you want to force a new download, use `force_download=True`.\n",
            "  warnings.warn(\n"
          ]
        },
        {
          "output_type": "display_data",
          "data": {
            "text/plain": [
              "pytorch_model.bin:   0%|          | 0.00/496M [00:00<?, ?B/s]"
            ],
            "application/vnd.jupyter.widget-view+json": {
              "version_major": 2,
              "version_minor": 0,
              "model_id": "1e2f35872b514b1d95dd4d9e0f8b8c38"
            }
          },
          "metadata": {}
        },
        {
          "output_type": "execute_result",
          "data": {
            "text/plain": [
              "BartForConditionalGeneration(\n",
              "  (model): BartModel(\n",
              "    (shared): Embedding(30000, 768, padding_idx=3)\n",
              "    (encoder): BartEncoder(\n",
              "      (embed_tokens): Embedding(30000, 768, padding_idx=3)\n",
              "      (embed_positions): BartLearnedPositionalEmbedding(1028, 768)\n",
              "      (layers): ModuleList(\n",
              "        (0-5): 6 x BartEncoderLayer(\n",
              "          (self_attn): BartAttention(\n",
              "            (k_proj): Linear(in_features=768, out_features=768, bias=True)\n",
              "            (v_proj): Linear(in_features=768, out_features=768, bias=True)\n",
              "            (q_proj): Linear(in_features=768, out_features=768, bias=True)\n",
              "            (out_proj): Linear(in_features=768, out_features=768, bias=True)\n",
              "          )\n",
              "          (self_attn_layer_norm): LayerNorm((768,), eps=1e-05, elementwise_affine=True)\n",
              "          (activation_fn): GELUActivation()\n",
              "          (fc1): Linear(in_features=768, out_features=3072, bias=True)\n",
              "          (fc2): Linear(in_features=3072, out_features=768, bias=True)\n",
              "          (final_layer_norm): LayerNorm((768,), eps=1e-05, elementwise_affine=True)\n",
              "        )\n",
              "      )\n",
              "      (layernorm_embedding): LayerNorm((768,), eps=1e-05, elementwise_affine=True)\n",
              "    )\n",
              "    (decoder): BartDecoder(\n",
              "      (embed_tokens): Embedding(30000, 768, padding_idx=3)\n",
              "      (embed_positions): BartLearnedPositionalEmbedding(1028, 768)\n",
              "      (layers): ModuleList(\n",
              "        (0-5): 6 x BartDecoderLayer(\n",
              "          (self_attn): BartAttention(\n",
              "            (k_proj): Linear(in_features=768, out_features=768, bias=True)\n",
              "            (v_proj): Linear(in_features=768, out_features=768, bias=True)\n",
              "            (q_proj): Linear(in_features=768, out_features=768, bias=True)\n",
              "            (out_proj): Linear(in_features=768, out_features=768, bias=True)\n",
              "          )\n",
              "          (activation_fn): GELUActivation()\n",
              "          (self_attn_layer_norm): LayerNorm((768,), eps=1e-05, elementwise_affine=True)\n",
              "          (encoder_attn): BartAttention(\n",
              "            (k_proj): Linear(in_features=768, out_features=768, bias=True)\n",
              "            (v_proj): Linear(in_features=768, out_features=768, bias=True)\n",
              "            (q_proj): Linear(in_features=768, out_features=768, bias=True)\n",
              "            (out_proj): Linear(in_features=768, out_features=768, bias=True)\n",
              "          )\n",
              "          (encoder_attn_layer_norm): LayerNorm((768,), eps=1e-05, elementwise_affine=True)\n",
              "          (fc1): Linear(in_features=768, out_features=3072, bias=True)\n",
              "          (fc2): Linear(in_features=3072, out_features=768, bias=True)\n",
              "          (final_layer_norm): LayerNorm((768,), eps=1e-05, elementwise_affine=True)\n",
              "        )\n",
              "      )\n",
              "      (layernorm_embedding): LayerNorm((768,), eps=1e-05, elementwise_affine=True)\n",
              "    )\n",
              "  )\n",
              "  (lm_head): Linear(in_features=768, out_features=30000, bias=False)\n",
              ")"
            ]
          },
          "metadata": {},
          "execution_count": 7
        }
      ],
      "source": [
        "import torch\n",
        "from torch.utils.data import DataLoader, TensorDataset\n",
        "from transformers import AutoModelForSeq2SeqLM, AdamW, get_scheduler\n",
        "\n",
        "# 데이터 전처리\n",
        "train_encodings, train_target_encodings = preprocess_data(train_data)\n",
        "val_encodings, val_target_encodings = preprocess_data(val_data)\n",
        "\n",
        "# DataLoader 설정\n",
        "train_dataset = torch.utils.data.TensorDataset(\n",
        "    train_encodings['input_ids'],\n",
        "    train_encodings['attention_mask'],\n",
        "    train_target_encodings['input_ids'],\n",
        "    train_target_encodings['attention_mask']\n",
        ")\n",
        "\n",
        "train_loader = DataLoader(train_dataset, batch_size=4, shuffle=True)\n",
        "\n",
        "val_dataset = TensorDataset(\n",
        "    torch.tensor(val_encodings['input_ids']),\n",
        "    torch.tensor(val_encodings['attention_mask']),\n",
        "    torch.tensor(val_target_encodings['input_ids']),\n",
        ")\n",
        "val_loader = DataLoader(val_dataset, batch_size=4, shuffle=True)\n",
        "\n",
        "# 모델 불러오기\n",
        "model = AutoModelForSeq2SeqLM.from_pretrained(\"ainize/kobart-news\")\n",
        "\n",
        "# GPU 사용 (선택적)\n",
        "device = torch.device(\"cuda\" if torch.cuda.is_available() else \"cpu\")\n",
        "model.to(device)\n"
      ]
    },
    {
      "cell_type": "markdown",
      "id": "8137c250",
      "metadata": {
        "id": "8137c250"
      },
      "source": [
        "# Optimizer 및 스케줄러 설정 및 학습 루프, 검증루프"
      ]
    },
    {
      "cell_type": "code",
      "execution_count": 8,
      "id": "42d834ec",
      "metadata": {
        "ExecuteTime": {
          "start_time": "2023-09-20T05:37:45.336Z"
        },
        "colab": {
          "base_uri": "https://localhost:8080/"
        },
        "id": "42d834ec",
        "outputId": "dacbbfd3-1f31-42f4-be39-0844d92998dc"
      },
      "outputs": [
        {
          "output_type": "stream",
          "name": "stderr",
          "text": [
            "/usr/local/lib/python3.10/dist-packages/transformers/optimization.py:391: FutureWarning: This implementation of AdamW is deprecated and will be removed in a future version. Use the PyTorch implementation torch.optim.AdamW instead, or set `no_deprecation_warning=True` to disable this warning\n",
            "  warnings.warn(\n"
          ]
        },
        {
          "output_type": "stream",
          "name": "stdout",
          "text": [
            "Epoch [1/20] Average Loss: 1.1443\n",
            "Epoch [1/20] Validation Loss: 0.8808\n",
            "Epoch [2/20] Average Loss: 0.8205\n",
            "Epoch [2/20] Validation Loss: 0.6454\n",
            "Epoch [3/20] Average Loss: 0.6176\n",
            "Epoch [3/20] Validation Loss: 0.5300\n",
            "Epoch [4/20] Average Loss: 0.4919\n",
            "Epoch [4/20] Validation Loss: 0.4580\n",
            "Epoch [5/20] Average Loss: 0.3954\n",
            "Epoch [5/20] Validation Loss: 0.4074\n",
            "Epoch [6/20] Average Loss: 0.3310\n",
            "Epoch [6/20] Validation Loss: 0.3889\n",
            "Epoch [7/20] Average Loss: 0.2831\n",
            "Epoch [7/20] Validation Loss: 0.3688\n",
            "Epoch [8/20] Average Loss: 0.2514\n",
            "Epoch [8/20] Validation Loss: 0.3646\n",
            "Epoch [9/20] Average Loss: 0.2267\n",
            "Epoch [9/20] Validation Loss: 0.3573\n",
            "Epoch [10/20] Average Loss: 0.2008\n",
            "Epoch [10/20] Validation Loss: 0.3576\n",
            "Epoch [11/20] Average Loss: 0.1819\n",
            "Epoch [11/20] Validation Loss: 0.3525\n",
            "Epoch [12/20] Average Loss: 0.1629\n",
            "Epoch [12/20] Validation Loss: 0.3523\n",
            "Epoch [13/20] Average Loss: 0.1515\n",
            "Epoch [13/20] Validation Loss: 0.3560\n",
            "Epoch [14/20] Average Loss: 0.1379\n",
            "Epoch [14/20] Validation Loss: 0.3574\n",
            "Epoch [15/20] Average Loss: 0.1296\n",
            "Epoch [15/20] Validation Loss: 0.3548\n",
            "Early stopping\n"
          ]
        }
      ],
      "source": [
        "import torch\n",
        "from torch.utils.data import DataLoader, TensorDataset\n",
        "from transformers import AdamW, get_scheduler\n",
        "import numpy as np\n",
        "from nltk.translate.bleu_score import corpus_bleu, SmoothingFunction\n",
        "\n",
        "# Optimizer 및 스케줄러 설정\n",
        "optimizer = AdamW(model.parameters(), lr=1e-5)\n",
        "num_epochs = 20\n",
        "scheduler = get_scheduler(\"linear\", optimizer, num_warmup_steps=500, num_training_steps=len(train_loader) * num_epochs)\n",
        "batch_size = 4\n",
        "\n",
        "# 얼리스타핑 초기\n",
        "best_val_loss = float('inf')\n",
        "patience = 3\n",
        "current_patience = 0\n",
        "\n",
        "# 손실 값 저장 리스트\n",
        "train_losses = []\n",
        "val_losses = []\n",
        "\n",
        "for epoch in range(num_epochs):\n",
        "    model.train()\n",
        "    total_loss = 0.0\n",
        "\n",
        "    for batch in train_loader:\n",
        "        input_ids = batch[0].to(device)\n",
        "        attention_mask = batch[1].to(device)\n",
        "        target_ids = batch[2].to(device)\n",
        "\n",
        "        optimizer.zero_grad()\n",
        "\n",
        "        outputs = model(input_ids=input_ids, attention_mask=attention_mask, decoder_input_ids=target_ids[:, :-1], labels=target_ids[:, 1:].contiguous())\n",
        "        loss = outputs.loss\n",
        "\n",
        "        loss.backward()\n",
        "        optimizer.step()\n",
        "        scheduler.step()\n",
        "\n",
        "        total_loss += loss.item()\n",
        "\n",
        "    average_loss = total_loss / len(train_loader)\n",
        "    train_losses.append(average_loss)\n",
        "    print(f\"Epoch [{epoch+1}/{num_epochs}] Average Loss: {average_loss:.4f}\")\n",
        "\n",
        "    # 검증 루프\n",
        "    model.eval()\n",
        "    epoch_val_losses = []\n",
        "\n",
        "    for batch in val_loader:\n",
        "        input_ids, attention_mask, target_ids = batch\n",
        "\n",
        "        with torch.no_grad():\n",
        "            outputs = model(input_ids=input_ids.to(device), attention_mask=attention_mask.to(device), decoder_input_ids=target_ids[:, :-1].to(device), labels=target_ids[:, 1:].contiguous().to(device))\n",
        "\n",
        "        loss = outputs.loss\n",
        "        epoch_val_losses.append(loss.item())\n",
        "\n",
        "    avg_val_loss = np.mean(epoch_val_losses)\n",
        "    val_losses.append(avg_val_loss)\n",
        "    print(f\"Epoch [{epoch+1}/{num_epochs}] Validation Loss: {avg_val_loss:.4f}\")\n",
        "\n",
        "    # 얼리 스타핑 설정\n",
        "    if avg_val_loss < best_val_loss:\n",
        "        best_val_loss = avg_val_loss\n",
        "        current_patience = 0\n",
        "    else:\n",
        "        current_patience += 1\n",
        "        if current_patience >= patience:\n",
        "            print(\"Early stopping\")\n",
        "            break"
      ]
    },
    {
      "cell_type": "markdown",
      "source": [
        "# 성능 지표 출력"
      ],
      "metadata": {
        "id": "JMg3kSpp-5d7"
      },
      "id": "JMg3kSpp-5d7"
    },
    {
      "cell_type": "code",
      "source": [
        "from rouge import Rouge\n",
        "\n",
        "# 검증 데이터에 대한 성능 지표 계산\n",
        "val_outputs = []\n",
        "\n",
        "for i in range(0, len(val_data), batch_size):\n",
        "    input_batch = torch.tensor(val_encodings['input_ids'][i:i+batch_size]).to(device)\n",
        "    attention_mask_batch = torch.tensor(val_encodings['attention_mask'][i:i+batch_size]).to(device)\n",
        "    target_batch = torch.tensor(val_target_encodings['input_ids'][i:i+batch_size]).to(device)\n",
        "    target_attention_mask_batch = torch.tensor(val_target_encodings['attention_mask'][i:i+batch_size]).to(device)\n",
        "\n",
        "    with torch.no_grad():\n",
        "        # 모델에 입력 전달하여 요약 생성\n",
        "        outputs = model(input_ids=input_batch, attention_mask=attention_mask_batch, decoder_input_ids=target_batch[:, :-1], labels=target_batch[:, 1:].contiguous())\n",
        "\n",
        "    loss = outputs.loss\n",
        "    val_losses.append(loss.item())\n",
        "\n",
        "    # 요약 생성\n",
        "    generated_ids = model.generate(input_ids=input_batch, max_length=150, num_beams=4, length_penalty=2.0, early_stopping=True)\n",
        "    val_outputs.extend(generated_ids.tolist())\n",
        "\n",
        "# 검증 데이터에 대한 BLEU 점수 계산\n",
        "reference_texts = [tokenizer.decode(val_target_encodings['input_ids'][i], skip_special_tokens=True) for i in range(len(val_data))]\n",
        "candidate_texts = [tokenizer.decode(ids, skip_special_tokens=True) for ids in val_outputs]\n",
        "\n",
        "# 가장 짧은 길이의 텍스트 리스트 길이 계산\n",
        "min_length = min(len(reference_texts), len(candidate_texts))\n",
        "\n",
        "# 리스트 개수를 가장 짧은 길이에 맞춤\n",
        "reference_texts = reference_texts[:min_length]\n",
        "candidate_texts = candidate_texts[:min_length]\n",
        "\n",
        "# BLEU 점수 계산\n",
        "bleu_score = corpus_bleu([[text.split()] for text in reference_texts], [text.split() for text in candidate_texts], smoothing_function=SmoothingFunction().method1)\n",
        "\n",
        "# ROUGE 점수 계산\n",
        "rouge = Rouge()\n",
        "scores = rouge.get_scores(candidate_texts, reference_texts, avg=True)\n",
        "\n",
        "# 평균 성능 지표 출력\n",
        "avg_val_loss = np.mean(val_losses)\n",
        "print(f\"Validation Loss: {avg_val_loss:.4f} BLEU Score: {bleu_score:.4f}\")\n",
        "print(f\"ROUGE Scores: {scores}\")\n"
      ],
      "metadata": {
        "colab": {
          "base_uri": "https://localhost:8080/"
        },
        "id": "XnRKmYgn-cpw",
        "outputId": "50837d7c-dc68-4b13-91a9-8dedc0b39aff"
      },
      "id": "XnRKmYgn-cpw",
      "execution_count": 11,
      "outputs": [
        {
          "output_type": "stream",
          "name": "stderr",
          "text": [
            "<ipython-input-11-47230864d68a>:7: UserWarning: To copy construct from a tensor, it is recommended to use sourceTensor.clone().detach() or sourceTensor.clone().detach().requires_grad_(True), rather than torch.tensor(sourceTensor).\n",
            "  input_batch = torch.tensor(val_encodings['input_ids'][i:i+batch_size]).to(device)\n",
            "<ipython-input-11-47230864d68a>:8: UserWarning: To copy construct from a tensor, it is recommended to use sourceTensor.clone().detach() or sourceTensor.clone().detach().requires_grad_(True), rather than torch.tensor(sourceTensor).\n",
            "  attention_mask_batch = torch.tensor(val_encodings['attention_mask'][i:i+batch_size]).to(device)\n",
            "<ipython-input-11-47230864d68a>:9: UserWarning: To copy construct from a tensor, it is recommended to use sourceTensor.clone().detach() or sourceTensor.clone().detach().requires_grad_(True), rather than torch.tensor(sourceTensor).\n",
            "  target_batch = torch.tensor(val_target_encodings['input_ids'][i:i+batch_size]).to(device)\n",
            "<ipython-input-11-47230864d68a>:10: UserWarning: To copy construct from a tensor, it is recommended to use sourceTensor.clone().detach() or sourceTensor.clone().detach().requires_grad_(True), rather than torch.tensor(sourceTensor).\n",
            "  target_attention_mask_batch = torch.tensor(val_target_encodings['attention_mask'][i:i+batch_size]).to(device)\n"
          ]
        },
        {
          "output_type": "stream",
          "name": "stdout",
          "text": [
            "Validation Loss: 0.3691 BLEU Score: 0.5538\n",
            "ROUGE Scores: {'rouge-1': {'r': 0.707138631422335, 'p': 0.7622773465740452, 'f': 0.7259139127849561}, 'rouge-2': {'r': 0.6430702942363589, 'p': 0.6908719199753321, 'f': 0.6587400417066148}, 'rouge-l': {'r': 0.7043753923594431, 'p': 0.7593526846104554, 'f': 0.7231099775023028}}\n"
          ]
        }
      ]
    },
    {
      "cell_type": "code",
      "source": [
        "# 샘플 데이터 출력 (5개)\n",
        "sample_size = 5\n",
        "samples = []\n",
        "\n",
        "for i in range(min(sample_size, len(val_data))):\n",
        "    reference_text = tokenizer.decode(val_target_encodings['input_ids'][i], skip_special_tokens=True)\n",
        "    candidate_text = tokenizer.decode(val_outputs[i], skip_special_tokens=True)\n",
        "    gold_text = tokenizer.decode(val_target_encodings['input_ids'][i], skip_special_tokens=True)\n",
        "    samples.append((reference_text, candidate_text, gold_text))\n",
        "    print(f\"Reference: {reference_text}\")\n",
        "    print(f\"Candidate: {candidate_text}\")\n",
        "    print(f\"Gold: {gold_text}\")\n",
        "    print()"
      ],
      "metadata": {
        "id": "XKp64YE_CCw6",
        "colab": {
          "base_uri": "https://localhost:8080/"
        },
        "outputId": "88a8824a-f053-4338-85bb-cbe92e4884c5"
      },
      "id": "XKp64YE_CCw6",
      "execution_count": 17,
      "outputs": [
        {
          "output_type": "stream",
          "name": "stdout",
          "text": [
            "Reference: 피고인이 사건 범행을 인정하면서 반성하고 있는 피해자와 원만히 합의한 동종 범죄로 처벌 받은 전력이 없는 점과 밖에 피고인의 연령 환경 범행의 동기와 경위 범행 정황 형법 51조가 정한 여러 양형 조건을 종합적으로 하여 주문과 같이 형을 정한다.\n",
            "Candidate: 피고인이 사건 범행을 인정하면서 반성하고 있는 피해자와 원만히 합의한 동종 범죄로 처벌 받은 전력이 없는 점과 밖에 피고인의 연령 환경 범행의 동기와 경위 범행 정황 형법 51조가 정한 여러 양형 조건을 종합적으로 려하여 주문과 같이 형을 정한다.\n",
            "Gold: 피고인이 사건 범행을 인정하면서 반성하고 있는 피해자와 원만히 합의한 동종 범죄로 처벌 받은 전력이 없는 점과 밖에 피고인의 연령 환경 범행의 동기와 경위 범행 정황 형법 51조가 정한 여러 양형 조건을 종합적으로 하여 주문과 같이 형을 정한다.\n",
            "\n",
            "Reference: 피고인이 별지 목록 기재와 같은 의약품들에 관하여 발급한 처방전은 앞서 바와 같이 의약분업을 전제로 환자로 하여금 약사에게 약을 조제 받도록 하기 위한 용도로 작성 교부된 처방전이라 없는 검사가 제출한 증거들 만으로는 피고인이 사건에 관하여 의료법 17조 항이 정한 처방전 작성 부하였음을 전제로 주위적 공소사실을 인정하기 어렵고 달리 이를 인정할 증거가 없다. 마약사범 등의 수용자들에게 대면 진료 없이 정신성의약품들이 무분별하게 교부되는 것은 엄격하게 규제되어야 하는 등에 비추어 보면 피고인은 일부 수용자들을 직접 진찰하지 않은 증명서를 작성하여 수용자의 위임을 받은 교도관에게 이를 교부한 사실이 인정\n",
            "Candidate: 그럼에도 불구하고 예비적 공소사실을 무죄로 판단한 원심판결에는 사실을 오인하여 판결에 영향을 미친 위법이 있으므로 이를 지적하는 검사의 주장은 이유 있다. 그럼에도 불구하고 예비적 공소사실을 무죄로 판단한 원심판결에는 사실을 오인하여 판결에 영향을 미친 위법이 있으므로 이를 지적하는 검사의 주장은 이유 있다. 그럼에도 불구하고 예비적 공소사실을 무죄로 판단한 원심판결에는 사실을 오인하여 판결에 영향을 미친 위법이 있으므로 이를 지적하는 검사의 주장은 이유 있다.\n",
            "Gold: 피고인이 별지 목록 기재와 같은 의약품들에 관하여 발급한 처방전은 앞서 바와 같이 의약분업을 전제로 환자로 하여금 약사에게 약을 조제 받도록 하기 위한 용도로 작성 교부된 처방전이라 없는 검사가 제출한 증거들 만으로는 피고인이 사건에 관하여 의료법 17조 항이 정한 처방전 작성 부하였음을 전제로 주위적 공소사실을 인정하기 어렵고 달리 이를 인정할 증거가 없다. 마약사범 등의 수용자들에게 대면 진료 없이 정신성의약품들이 무분별하게 교부되는 것은 엄격하게 규제되어야 하는 등에 비추어 보면 피고인은 일부 수용자들을 직접 진찰하지 않은 증명서를 작성하여 수용자의 위임을 받은 교도관에게 이를 교부한 사실이 인정\n",
            "\n",
            "Reference: 사건 공소사실 기재 범죄는 형법 260조 항에 해당하는 죄로서 같은 항에 의하여 피해자의 명시한 의사에 반하여 공소를 제기할 없는 것이다. 따라서 사건 공소는 공소제기의 절차가 법률의 규정에 위반되어 무효인 때에 해당된다. 형사 소송법 327조 2호에 따라 공소를 기각한다.\n",
            "Candidate: 따라서 사건 공소사실 기재 범죄는 형법 260조 항에 해당하는 죄로서 같은 항에 의하여 피해자의 명시한 의사에 반하여 공소를 제기할 없는 것이다. 피해자는 2014. 12. 3. 피고인의 처벌을 원하지 않는다는 취지로 피고인과 합의하고 고소를 취하하였다.\n",
            "Gold: 사건 공소사실 기재 범죄는 형법 260조 항에 해당하는 죄로서 같은 항에 의하여 피해자의 명시한 의사에 반하여 공소를 제기할 없는 것이다. 따라서 사건 공소는 공소제기의 절차가 법률의 규정에 위반되어 무효인 때에 해당된다. 형사 소송법 327조 2호에 따라 공소를 기각한다.\n",
            "\n",
            "Reference: 횡령죄에 있어서의 재물의 보관이라 함은 재물에 대한 사실상 또는 법률상 지배력이 있는 상태를 의미하므로 보관이 위탁관계에 기인하여야 것임은 물론이나 그것이 반드시 사용 대차 임대차 위임 등의 계약에 의하여 설정되는 것임을 요하지 아니하고 사무관리 관습 조리 신의칙에 의해서도 성립된다. 횡령죄의 범의는 타인의 물건을 점유하는 자가 위탁의 취지에 반하여 자기의 소유물과 같이 이를 지배하고 처분한다는 인식이 있으면 충분하고 경제적 이득을 취할 의사를 필요로 하는 것이 아니다. 피고인이 피해자의 반환 요구를 거부하고 피해 물품을 계속 보관하고 있었던 이상 피고인에게는 이를 자신의 소유물처럼 지배할 의사가 있었다고\n",
            "Candidate: 피고인이 피해자의 반환 요구를 거부하고 피해 물품을 계속 보관하고 있었던 이상 피고인에게는 이를 자신의 소유물처럼 지배할 의사가 있었다고 인정되고 피해 물품이 피고인에게 경제적으로 아무런 이득되지 않는다는 등의 이유만으로는 피고인에게 횡령죄의 불법 영득의사가 없었다고 항소심은 제1심과 비교하여 양형의 조건에 변화가 없고 심의 양형이 재량의 합리적인 범위를 벗어나지 아니하는 경우 제1심의 양형 판단을 존중함이 타당하다. 달리 심에서 양형조건이 크게 변화하였다고 만한 사정도 없다.\n",
            "Gold: 횡령죄에 있어서의 재물의 보관이라 함은 재물에 대한 사실상 또는 법률상 지배력이 있는 상태를 의미하므로 보관이 위탁관계에 기인하여야 것임은 물론이나 그것이 반드시 사용 대차 임대차 위임 등의 계약에 의하여 설정되는 것임을 요하지 아니하고 사무관리 관습 조리 신의칙에 의해서도 성립된다. 횡령죄의 범의는 타인의 물건을 점유하는 자가 위탁의 취지에 반하여 자기의 소유물과 같이 이를 지배하고 처분한다는 인식이 있으면 충분하고 경제적 이득을 취할 의사를 필요로 하는 것이 아니다. 피고인이 피해자의 반환 요구를 거부하고 피해 물품을 계속 보관하고 있었던 이상 피고인에게는 이를 자신의 소유물처럼 지배할 의사가 있었다고\n",
            "\n",
            "Reference: 다만 피고인이 사건 범행을 인정하며 반성하는 모습을 보이고 있는 사건 범행이 미수에 그친 피고인이 피해자와 합의 하여 피해 자가 피고인의 처벌을 원하지 않고 있는 피고인은 범죄 전력이 없는 초범인 등을 유리한 정상으로 참작한다. 사건 범행은 피고인이 사건 당일 처음 만난 피해자를 안에서 유사 강간하려 미수에 그친 사안으로 죄질이 좋지 않다. 밖에 피고인의 나이 환경 범행의 동기와 경위 수단과 결과 범행 후의 정황 변론에 나타난 모든 양형조건을 종합하여 주문과 같이 형을 정한다.\n",
            "Candidate: 사건 범행은 피고인이 사건 당일 처음 만난 피해자를 안에서 유사 강간하려다 미수에 그친 사안으로 죄질이 좋지 않다. 다만 피고인이 사건 범행을 인정하며 반성하는 모습을 보이고 있는 사건 범행이 미수에 그친 피고인이 피해자와 합의 하여 피해 자가 피고인의 처벌을 원하지 않고 있는 피고인은 범죄 전력이 없는 초범인 등을 유리한 정상으로 참작한다. 밖에 피고인의 나이 환경 범행의 동기와 경위 수단과 결과 범행 후의 정황 변론에 나타난 모든 양형조건을 종합하여 주문과 같이 형을 정한다. 사건 범행은 피고인이 사건 당일 처음 만난 피해자를 안에서 유사 강간하려다 미수에 그친 사안으로 죄질이 좋지 않다.\n",
            "Gold: 다만 피고인이 사건 범행을 인정하며 반성하는 모습을 보이고 있는 사건 범행이 미수에 그친 피고인이 피해자와 합의 하여 피해 자가 피고인의 처벌을 원하지 않고 있는 피고인은 범죄 전력이 없는 초범인 등을 유리한 정상으로 참작한다. 사건 범행은 피고인이 사건 당일 처음 만난 피해자를 안에서 유사 강간하려 미수에 그친 사안으로 죄질이 좋지 않다. 밖에 피고인의 나이 환경 범행의 동기와 경위 수단과 결과 범행 후의 정황 변론에 나타난 모든 양형조건을 종합하여 주문과 같이 형을 정한다.\n",
            "\n"
          ]
        }
      ]
    },
    {
      "cell_type": "markdown",
      "source": [
        "# train, validation loss 시각화"
      ],
      "metadata": {
        "id": "ZkEe-iDS9J8c"
      },
      "id": "ZkEe-iDS9J8c"
    },
    {
      "cell_type": "code",
      "execution_count": 36,
      "id": "230eb890",
      "metadata": {
        "id": "230eb890",
        "colab": {
          "base_uri": "https://localhost:8080/",
          "height": 487
        },
        "outputId": "439ee8d2-324e-4758-f322-31be4ea62c90"
      },
      "outputs": [
        {
          "output_type": "display_data",
          "data": {
            "text/plain": [
              "<Figure size 700x500 with 1 Axes>"
            ],
            "image/png": "[encoded data removed]"
          },
          "metadata": {}
        }
      ],
      "source": [
        "# 훈련 및 검증 손실 시각화\n",
        "import matplotlib.pyplot as plt\n",
        "\n",
        "plt.figure(figsize=(7, 5))\n",
        "plt.plot(train_losses[:epoch+1], label=\"Train Loss\")\n",
        "plt.plot(val_losses[:epoch+1], label=\"Validation Loss\")\n",
        "plt.xlabel(\"Epoch\")\n",
        "plt.ylabel(\"Loss\")\n",
        "plt.legend()\n",
        "plt.title(\"Train and Validation Loss\")\n",
        "plt.show()\n"
      ]
    },
    {
      "cell_type": "markdown",
      "source": [
        "# 모델 저장"
      ],
      "metadata": {
        "id": "nJ7WbBS6-8HF"
      },
      "id": "nJ7WbBS6-8HF"
    },
    {
      "cell_type": "code",
      "source": [
        "# 학습된 모델 저장\n",
        "model.save_pretrained(\"/content/drive/MyDrive/Colab Notebooks/oliveKobart12\")"
      ],
      "metadata": {
        "id": "uRVsk_dv-9Cv"
      },
      "id": "uRVsk_dv-9Cv",
      "execution_count": 37,
      "outputs": []
    },
    {
      "cell_type": "markdown",
      "source": [
        "# 저장한 모델 불러와서 테스트 및 예시 출력"
      ],
      "metadata": {
        "id": "8cQOfT4V9MpQ"
      },
      "id": "8cQOfT4V9MpQ"
    },
    {
      "cell_type": "code",
      "source": [
        "from transformers import BartForConditionalGeneration\n",
        "\n",
        "# 저장된 모델 불러오기\n",
        "model_path = \"/content/drive/MyDrive/Colab Notebooks/oliveKobart12\"\n",
        "model = BartForConditionalGeneration.from_pretrained(model_path)\n",
        "\n",
        "# 모델을 GPU로 옮기기\n",
        "model.to(device)\n",
        "\n",
        "# 텍스트 요약 테스트\n",
        "input_text = \"피고인은 원심에서도 이 부분 항소이유와 동일한 취지의 주장을 하였고, 원심은 피고인과 변호인의 주장에 대한 판단이라는 제목 아래 이에 관한 판단을 자세하게 설시하여 위 주장을 배척하였다.원심의 판단을 기록과 면밀히 대조하여 살펴보면 충분히 정당하다고 수긍할 수 있고, 원심판결에 피고인의 주장과 같은 사실오인의 위법이 있다고 판단되지 않는다. 따라서 피고인의 이 부분 주장은 이유 없다. 이 사건 범행은 피고인이 여러 명이 같이 자고 있는 방에서 술에 만취하여 잠이 든 19세의 피해자를 간음한 사안으로 그 죄질이 좋지 않다. 피해자가 이 사건 범행으로 인하여 상당한 성적 수치심과 정신적 고통을 겪고 있을 것임에도, 피고인은 피해자와 합의 하에 성관계를 가졌다고 주장하는 등 납득할 수 없는 변명으로 일관하고 있는 점, 피고인은 특수강간 등의 범죄사실로 소년보호처분을 받은 전력이 있는 점 등은 피고인에게 불리한 사정이다. 반면, 피고인이 당심에 이르러 피해자와 합의한 점 등은 피고인에게 유리한 사정이다. 그밖에 피고인의 나이, 성행, 환경, 가족관계, 범행의 동기와 경위, 범행의 방법과 결과, 범행 전후의 정황 등 여러 가지 양형의 조건들 및 양형기준의 권고형량범위를 종합하여 보면, 원심이 피고인에 대하여 선고한 형이 너무 무거워서 부당하다고 판단된다. 따라서 피고인의 이 부분 주장은 이유 있다.\"\n",
        "input_ids = tokenizer.encode(input_text, return_tensors=\"pt\", max_length=1024, truncation=True).to(device)\n",
        "\n",
        "# 모델에 입력 전달하여 요약 생성\n",
        "generated_ids = model.generate(input_ids.to(device), max_length=150, num_beams=4, length_penalty=2.0, early_stopping=True)\n",
        "\n",
        "# 요약문 출력\n",
        "generated_text = tokenizer.decode(generated_ids[0], skip_special_tokens=True)\n",
        "print(\"요약문:\", generated_text)\n",
        "\n"
      ],
      "metadata": {
        "id": "D3xrSTwKE1Ax",
        "colab": {
          "base_uri": "https://localhost:8080/"
        },
        "outputId": "e7f73446-a894-44fa-e3d1-96a7f4e6bdb1"
      },
      "id": "D3xrSTwKE1Ax",
      "execution_count": 38,
      "outputs": [
        {
          "output_type": "stream",
          "name": "stderr",
          "text": [
            "You passed along `num_labels=3` with an incompatible id to label map: {'0': 'NEGATIVE', '1': 'POSITIVE'}. The number of labels wil be overwritten to 2.\n"
          ]
        },
        {
          "output_type": "stream",
          "name": "stdout",
          "text": [
            "요약문: 밖에 피고인의 나이, 환경, 가족관계, 범행의 동기와 경위, 범행의 방법과 결과, 범행 전후의 정황 등 여러 가지 양형의 조건들 및 양형기준의 권고 형량범위를 종합하여 보면, 원심이 피고인에 대하여 선고한 형이 너무 무거워서 부당 하다고 판단된다. 피해자가 이 사건 범행으로 인하여 상당한 성적 수치심과 정신적 고통을 겪고 있을 것임에도 피고인은 피해자와 합의 하에 성관계를 가졌다고 주장하는 등 납득할 수 없는 변명으로 일관하고 있는 점, 피고인은 특수강간 등의 범죄사실로 소년보호처분을 받은 전력이 있는 점 등은 피고인에게 불리한 사정이다. 원심의 판단을 기록과 면밀히 대조하여 살펴보면 충분히 정당하다고 수긍할 수 있고, 원심판\n"
          ]
        }
      ]
    },
    {
      "cell_type": "code",
      "source": [
        "# requirements.txt 생성\n",
        "!pip freeze > requirements.txt"
      ],
      "metadata": {
        "id": "TTJ7Rr2Bqwxg"
      },
      "id": "TTJ7Rr2Bqwxg",
      "execution_count": 39,
      "outputs": []
    }
  ],
  "metadata": {
    "kernelspec": {
      "display_name": "Python 3",
      "name": "python3"
    },
    "language_info": {
      "codemirror_mode": {
        "name": "ipython",
        "version": 3
      },
      "file_extension": ".py",
      "mimetype": "text/x-python",
      "name": "python",
      "nbconvert_exporter": "python",
      "pygments_lexer": "ipython3",
      "version": "3.11.4"
    },
    "toc": {
      "base_numbering": 1,
      "nav_menu": {},
      "number_sections": true,
      "sideBar": true,
      "skip_h1_title": false,
      "title_cell": "Table of Contents",
      "title_sidebar": "Contents",
      "toc_cell": false,
      "toc_position": {},
      "toc_section_display": true,
      "toc_window_display": false
    },
    "varInspector": {
      "cols": {
        "lenName": 16,
        "lenType": 16,
        "lenVar": 40
      },
      "kernels_config": {
        "python": {
          "delete_cmd_postfix": "",
          "delete_cmd_prefix": "del ",
          "library": "var_list.py",
          "varRefreshCmd": "print(var_dic_list())"
        },
        "r": {
          "delete_cmd_postfix": ") ",
          "delete_cmd_prefix": "rm(",
          "library": "var_list.r",
          "varRefreshCmd": "cat(var_dic_list()) "
        }
      },
      "types_to_exclude": [
        "module",
        "function",
        "builtin_function_or_method",
        "instance",
        "_Feature"
      ],
      "window_display": false
    },
    "colab": {
      "provenance": [],
      "gpuType": "T4",
      "machine_shape": "hm",
      "include_colab_link": true
    },
    "accelerator": "GPU",
    "widgets": {
      "application/vnd.jupyter.widget-state+json": {
        "07057daffa154f6f95b19ebf8a42e504": {
          "model_module": "@jupyter-widgets/controls",
          "model_name": "HBoxModel",
          "model_module_version": "1.5.0",
          "state": {
            "_dom_classes": [],
            "_model_module": "@jupyter-widgets/controls",
            "_model_module_version": "1.5.0",
            "_model_name": "HBoxModel",
            "_view_count": null,
            "_view_module": "@jupyter-widgets/controls",
            "_view_module_version": "1.5.0",
            "_view_name": "HBoxView",
            "box_style": "",
            "children": [
              "IPY_MODEL_5d886682af5f48febe40b526fc5f37a0",
              "IPY_MODEL_996b2cbabfee47e782a74701062a4653",
              "IPY_MODEL_0ca9f09de84842ffb8217a3ef95f4a18"
            ],
            "layout": "IPY_MODEL_149c5463bf8a48d9b16f7ece42336659"
          }
        },
        "5d886682af5f48febe40b526fc5f37a0": {
          "model_module": "@jupyter-widgets/controls",
          "model_name": "HTMLModel",
          "model_module_version": "1.5.0",
          "state": {
            "_dom_classes": [],
            "_model_module": "@jupyter-widgets/controls",
            "_model_module_version": "1.5.0",
            "_model_name": "HTMLModel",
            "_view_count": null,
            "_view_module": "@jupyter-widgets/controls",
            "_view_module_version": "1.5.0",
            "_view_name": "HTMLView",
            "description": "",
            "description_tooltip": null,
            "layout": "IPY_MODEL_a98950fe3e6f430494c642b0b602de75",
            "placeholder": "​",
            "style": "IPY_MODEL_86179e4207244230819b485080d1f61c",
            "value": "tokenizer_config.json: 100%"
          }
        },
        "996b2cbabfee47e782a74701062a4653": {
          "model_module": "@jupyter-widgets/controls",
          "model_name": "FloatProgressModel",
          "model_module_version": "1.5.0",
          "state": {
            "_dom_classes": [],
            "_model_module": "@jupyter-widgets/controls",
            "_model_module_version": "1.5.0",
            "_model_name": "FloatProgressModel",
            "_view_count": null,
            "_view_module": "@jupyter-widgets/controls",
            "_view_module_version": "1.5.0",
            "_view_name": "ProgressView",
            "bar_style": "success",
            "description": "",
            "description_tooltip": null,
            "layout": "IPY_MODEL_c1f60dd942934391803f9b156d131e92",
            "max": 302,
            "min": 0,
            "orientation": "horizontal",
            "style": "IPY_MODEL_c74b4482ed044f5cb49c703e803bf6b2",
            "value": 302
          }
        },
        "0ca9f09de84842ffb8217a3ef95f4a18": {
          "model_module": "@jupyter-widgets/controls",
          "model_name": "HTMLModel",
          "model_module_version": "1.5.0",
          "state": {
            "_dom_classes": [],
            "_model_module": "@jupyter-widgets/controls",
            "_model_module_version": "1.5.0",
            "_model_name": "HTMLModel",
            "_view_count": null,
            "_view_module": "@jupyter-widgets/controls",
            "_view_module_version": "1.5.0",
            "_view_name": "HTMLView",
            "description": "",
            "description_tooltip": null,
            "layout": "IPY_MODEL_d7559ab78c2c406ab9989072efa9602b",
            "placeholder": "​",
            "style": "IPY_MODEL_dcfd2bfcd8134755b50d0e3cce9682dd",
            "value": " 302/302 [00:00&lt;00:00, 19.3kB/s]"
          }
        },
        "149c5463bf8a48d9b16f7ece42336659": {
          "model_module": "@jupyter-widgets/base",
          "model_name": "LayoutModel",
          "model_module_version": "1.2.0",
          "state": {
            "_model_module": "@jupyter-widgets/base",
            "_model_module_version": "1.2.0",
            "_model_name": "LayoutModel",
            "_view_count": null,
            "_view_module": "@jupyter-widgets/base",
            "_view_module_version": "1.2.0",
            "_view_name": "LayoutView",
            "align_content": null,
            "align_items": null,
            "align_self": null,
            "border": null,
            "bottom": null,
            "display": null,
            "flex": null,
            "flex_flow": null,
            "grid_area": null,
            "grid_auto_columns": null,
            "grid_auto_flow": null,
            "grid_auto_rows": null,
            "grid_column": null,
            "grid_gap": null,
            "grid_row": null,
            "grid_template_areas": null,
            "grid_template_columns": null,
            "grid_template_rows": null,
            "height": null,
            "justify_content": null,
            "justify_items": null,
            "left": null,
            "margin": null,
            "max_height": null,
            "max_width": null,
            "min_height": null,
            "min_width": null,
            "object_fit": null,
            "object_position": null,
            "order": null,
            "overflow": null,
            "overflow_x": null,
            "overflow_y": null,
            "padding": null,
            "right": null,
            "top": null,
            "visibility": null,
            "width": null
          }
        },
        "a98950fe3e6f430494c642b0b602de75": {
          "model_module": "@jupyter-widgets/base",
          "model_name": "LayoutModel",
          "model_module_version": "1.2.0",
          "state": {
            "_model_module": "@jupyter-widgets/base",
            "_model_module_version": "1.2.0",
            "_model_name": "LayoutModel",
            "_view_count": null,
            "_view_module": "@jupyter-widgets/base",
            "_view_module_version": "1.2.0",
            "_view_name": "LayoutView",
            "align_content": null,
            "align_items": null,
            "align_self": null,
            "border": null,
            "bottom": null,
            "display": null,
            "flex": null,
            "flex_flow": null,
            "grid_area": null,
            "grid_auto_columns": null,
            "grid_auto_flow": null,
            "grid_auto_rows": null,
            "grid_column": null,
            "grid_gap": null,
            "grid_row": null,
            "grid_template_areas": null,
            "grid_template_columns": null,
            "grid_template_rows": null,
            "height": null,
            "justify_content": null,
            "justify_items": null,
            "left": null,
            "margin": null,
            "max_height": null,
            "max_width": null,
            "min_height": null,
            "min_width": null,
            "object_fit": null,
            "object_position": null,
            "order": null,
            "overflow": null,
            "overflow_x": null,
            "overflow_y": null,
            "padding": null,
            "right": null,
            "top": null,
            "visibility": null,
            "width": null
          }
        },
        "86179e4207244230819b485080d1f61c": {
          "model_module": "@jupyter-widgets/controls",
          "model_name": "DescriptionStyleModel",
          "model_module_version": "1.5.0",
          "state": {
            "_model_module": "@jupyter-widgets/controls",
            "_model_module_version": "1.5.0",
            "_model_name": "DescriptionStyleModel",
            "_view_count": null,
            "_view_module": "@jupyter-widgets/base",
            "_view_module_version": "1.2.0",
            "_view_name": "StyleView",
            "description_width": ""
          }
        },
        "c1f60dd942934391803f9b156d131e92": {
          "model_module": "@jupyter-widgets/base",
          "model_name": "LayoutModel",
          "model_module_version": "1.2.0",
          "state": {
            "_model_module": "@jupyter-widgets/base",
            "_model_module_version": "1.2.0",
            "_model_name": "LayoutModel",
            "_view_count": null,
            "_view_module": "@jupyter-widgets/base",
            "_view_module_version": "1.2.0",
            "_view_name": "LayoutView",
            "align_content": null,
            "align_items": null,
            "align_self": null,
            "border": null,
            "bottom": null,
            "display": null,
            "flex": null,
            "flex_flow": null,
            "grid_area": null,
            "grid_auto_columns": null,
            "grid_auto_flow": null,
            "grid_auto_rows": null,
            "grid_column": null,
            "grid_gap": null,
            "grid_row": null,
            "grid_template_areas": null,
            "grid_template_columns": null,
            "grid_template_rows": null,
            "height": null,
            "justify_content": null,
            "justify_items": null,
            "left": null,
            "margin": null,
            "max_height": null,
            "max_width": null,
            "min_height": null,
            "min_width": null,
            "object_fit": null,
            "object_position": null,
            "order": null,
            "overflow": null,
            "overflow_x": null,
            "overflow_y": null,
            "padding": null,
            "right": null,
            "top": null,
            "visibility": null,
            "width": null
          }
        },
        "c74b4482ed044f5cb49c703e803bf6b2": {
          "model_module": "@jupyter-widgets/controls",
          "model_name": "ProgressStyleModel",
          "model_module_version": "1.5.0",
          "state": {
            "_model_module": "@jupyter-widgets/controls",
            "_model_module_version": "1.5.0",
            "_model_name": "ProgressStyleModel",
            "_view_count": null,
            "_view_module": "@jupyter-widgets/base",
            "_view_module_version": "1.2.0",
            "_view_name": "StyleView",
            "bar_color": null,
            "description_width": ""
          }
        },
        "d7559ab78c2c406ab9989072efa9602b": {
          "model_module": "@jupyter-widgets/base",
          "model_name": "LayoutModel",
          "model_module_version": "1.2.0",
          "state": {
            "_model_module": "@jupyter-widgets/base",
            "_model_module_version": "1.2.0",
            "_model_name": "LayoutModel",
            "_view_count": null,
            "_view_module": "@jupyter-widgets/base",
            "_view_module_version": "1.2.0",
            "_view_name": "LayoutView",
            "align_content": null,
            "align_items": null,
            "align_self": null,
            "border": null,
            "bottom": null,
            "display": null,
            "flex": null,
            "flex_flow": null,
            "grid_area": null,
            "grid_auto_columns": null,
            "grid_auto_flow": null,
            "grid_auto_rows": null,
            "grid_column": null,
            "grid_gap": null,
            "grid_row": null,
            "grid_template_areas": null,
            "grid_template_columns": null,
            "grid_template_rows": null,
            "height": null,
            "justify_content": null,
            "justify_items": null,
            "left": null,
            "margin": null,
            "max_height": null,
            "max_width": null,
            "min_height": null,
            "min_width": null,
            "object_fit": null,
            "object_position": null,
            "order": null,
            "overflow": null,
            "overflow_x": null,
            "overflow_y": null,
            "padding": null,
            "right": null,
            "top": null,
            "visibility": null,
            "width": null
          }
        },
        "dcfd2bfcd8134755b50d0e3cce9682dd": {
          "model_module": "@jupyter-widgets/controls",
          "model_name": "DescriptionStyleModel",
          "model_module_version": "1.5.0",
          "state": {
            "_model_module": "@jupyter-widgets/controls",
            "_model_module_version": "1.5.0",
            "_model_name": "DescriptionStyleModel",
            "_view_count": null,
            "_view_module": "@jupyter-widgets/base",
            "_view_module_version": "1.2.0",
            "_view_name": "StyleView",
            "description_width": ""
          }
        },
        "8d50959d970f44d99464e7e5204f22d0": {
          "model_module": "@jupyter-widgets/controls",
          "model_name": "HBoxModel",
          "model_module_version": "1.5.0",
          "state": {
            "_dom_classes": [],
            "_model_module": "@jupyter-widgets/controls",
            "_model_module_version": "1.5.0",
            "_model_name": "HBoxModel",
            "_view_count": null,
            "_view_module": "@jupyter-widgets/controls",
            "_view_module_version": "1.5.0",
            "_view_name": "HBoxView",
            "box_style": "",
            "children": [
              "IPY_MODEL_cdcf3bf207434301aea62000c7d6080e",
              "IPY_MODEL_641d687dd3b047c49db20134e988c957",
              "IPY_MODEL_11287c2814254402b01412ecd0a2e0ae"
            ],
            "layout": "IPY_MODEL_dcaeeb46feb44afbae4f6d159333c108"
          }
        },
        "cdcf3bf207434301aea62000c7d6080e": {
          "model_module": "@jupyter-widgets/controls",
          "model_name": "HTMLModel",
          "model_module_version": "1.5.0",
          "state": {
            "_dom_classes": [],
            "_model_module": "@jupyter-widgets/controls",
            "_model_module_version": "1.5.0",
            "_model_name": "HTMLModel",
            "_view_count": null,
            "_view_module": "@jupyter-widgets/controls",
            "_view_module_version": "1.5.0",
            "_view_name": "HTMLView",
            "description": "",
            "description_tooltip": null,
            "layout": "IPY_MODEL_fb1de2701ae34af9917e4094e3ae152f",
            "placeholder": "​",
            "style": "IPY_MODEL_43e2417485514bb4b02f4e85984aa89c",
            "value": "tokenizer.json: 100%"
          }
        },
        "641d687dd3b047c49db20134e988c957": {
          "model_module": "@jupyter-widgets/controls",
          "model_name": "FloatProgressModel",
          "model_module_version": "1.5.0",
          "state": {
            "_dom_classes": [],
            "_model_module": "@jupyter-widgets/controls",
            "_model_module_version": "1.5.0",
            "_model_name": "FloatProgressModel",
            "_view_count": null,
            "_view_module": "@jupyter-widgets/controls",
            "_view_module_version": "1.5.0",
            "_view_name": "ProgressView",
            "bar_style": "success",
            "description": "",
            "description_tooltip": null,
            "layout": "IPY_MODEL_25873d37961e4a57bee2ab283979ef0b",
            "max": 682398,
            "min": 0,
            "orientation": "horizontal",
            "style": "IPY_MODEL_c3050a29b20646e2bee95552bf62e386",
            "value": 682398
          }
        },
        "11287c2814254402b01412ecd0a2e0ae": {
          "model_module": "@jupyter-widgets/controls",
          "model_name": "HTMLModel",
          "model_module_version": "1.5.0",
          "state": {
            "_dom_classes": [],
            "_model_module": "@jupyter-widgets/controls",
            "_model_module_version": "1.5.0",
            "_model_name": "HTMLModel",
            "_view_count": null,
            "_view_module": "@jupyter-widgets/controls",
            "_view_module_version": "1.5.0",
            "_view_name": "HTMLView",
            "description": "",
            "description_tooltip": null,
            "layout": "IPY_MODEL_bdcd0dad71ff4626aab6381145980e81",
            "placeholder": "​",
            "style": "IPY_MODEL_3ccf0a4cb7b041f4b66ad98ad50f6c9a",
            "value": " 682k/682k [00:00&lt;00:00, 1.18MB/s]"
          }
        },
        "dcaeeb46feb44afbae4f6d159333c108": {
          "model_module": "@jupyter-widgets/base",
          "model_name": "LayoutModel",
          "model_module_version": "1.2.0",
          "state": {
            "_model_module": "@jupyter-widgets/base",
            "_model_module_version": "1.2.0",
            "_model_name": "LayoutModel",
            "_view_count": null,
            "_view_module": "@jupyter-widgets/base",
            "_view_module_version": "1.2.0",
            "_view_name": "LayoutView",
            "align_content": null,
            "align_items": null,
            "align_self": null,
            "border": null,
            "bottom": null,
            "display": null,
            "flex": null,
            "flex_flow": null,
            "grid_area": null,
            "grid_auto_columns": null,
            "grid_auto_flow": null,
            "grid_auto_rows": null,
            "grid_column": null,
            "grid_gap": null,
            "grid_row": null,
            "grid_template_areas": null,
            "grid_template_columns": null,
            "grid_template_rows": null,
            "height": null,
            "justify_content": null,
            "justify_items": null,
            "left": null,
            "margin": null,
            "max_height": null,
            "max_width": null,
            "min_height": null,
            "min_width": null,
            "object_fit": null,
            "object_position": null,
            "order": null,
            "overflow": null,
            "overflow_x": null,
            "overflow_y": null,
            "padding": null,
            "right": null,
            "top": null,
            "visibility": null,
            "width": null
          }
        },
        "fb1de2701ae34af9917e4094e3ae152f": {
          "model_module": "@jupyter-widgets/base",
          "model_name": "LayoutModel",
          "model_module_version": "1.2.0",
          "state": {
            "_model_module": "@jupyter-widgets/base",
            "_model_module_version": "1.2.0",
            "_model_name": "LayoutModel",
            "_view_count": null,
            "_view_module": "@jupyter-widgets/base",
            "_view_module_version": "1.2.0",
            "_view_name": "LayoutView",
            "align_content": null,
            "align_items": null,
            "align_self": null,
            "border": null,
            "bottom": null,
            "display": null,
            "flex": null,
            "flex_flow": null,
            "grid_area": null,
            "grid_auto_columns": null,
            "grid_auto_flow": null,
            "grid_auto_rows": null,
            "grid_column": null,
            "grid_gap": null,
            "grid_row": null,
            "grid_template_areas": null,
            "grid_template_columns": null,
            "grid_template_rows": null,
            "height": null,
            "justify_content": null,
            "justify_items": null,
            "left": null,
            "margin": null,
            "max_height": null,
            "max_width": null,
            "min_height": null,
            "min_width": null,
            "object_fit": null,
            "object_position": null,
            "order": null,
            "overflow": null,
            "overflow_x": null,
            "overflow_y": null,
            "padding": null,
            "right": null,
            "top": null,
            "visibility": null,
            "width": null
          }
        },
        "43e2417485514bb4b02f4e85984aa89c": {
          "model_module": "@jupyter-widgets/controls",
          "model_name": "DescriptionStyleModel",
          "model_module_version": "1.5.0",
          "state": {
            "_model_module": "@jupyter-widgets/controls",
            "_model_module_version": "1.5.0",
            "_model_name": "DescriptionStyleModel",
            "_view_count": null,
            "_view_module": "@jupyter-widgets/base",
            "_view_module_version": "1.2.0",
            "_view_name": "StyleView",
            "description_width": ""
          }
        },
        "25873d37961e4a57bee2ab283979ef0b": {
          "model_module": "@jupyter-widgets/base",
          "model_name": "LayoutModel",
          "model_module_version": "1.2.0",
          "state": {
            "_model_module": "@jupyter-widgets/base",
            "_model_module_version": "1.2.0",
            "_model_name": "LayoutModel",
            "_view_count": null,
            "_view_module": "@jupyter-widgets/base",
            "_view_module_version": "1.2.0",
            "_view_name": "LayoutView",
            "align_content": null,
            "align_items": null,
            "align_self": null,
            "border": null,
            "bottom": null,
            "display": null,
            "flex": null,
            "flex_flow": null,
            "grid_area": null,
            "grid_auto_columns": null,
            "grid_auto_flow": null,
            "grid_auto_rows": null,
            "grid_column": null,
            "grid_gap": null,
            "grid_row": null,
            "grid_template_areas": null,
            "grid_template_columns": null,
            "grid_template_rows": null,
            "height": null,
            "justify_content": null,
            "justify_items": null,
            "left": null,
            "margin": null,
            "max_height": null,
            "max_width": null,
            "min_height": null,
            "min_width": null,
            "object_fit": null,
            "object_position": null,
            "order": null,
            "overflow": null,
            "overflow_x": null,
            "overflow_y": null,
            "padding": null,
            "right": null,
            "top": null,
            "visibility": null,
            "width": null
          }
        },
        "c3050a29b20646e2bee95552bf62e386": {
          "model_module": "@jupyter-widgets/controls",
          "model_name": "ProgressStyleModel",
          "model_module_version": "1.5.0",
          "state": {
            "_model_module": "@jupyter-widgets/controls",
            "_model_module_version": "1.5.0",
            "_model_name": "ProgressStyleModel",
            "_view_count": null,
            "_view_module": "@jupyter-widgets/base",
            "_view_module_version": "1.2.0",
            "_view_name": "StyleView",
            "bar_color": null,
            "description_width": ""
          }
        },
        "bdcd0dad71ff4626aab6381145980e81": {
          "model_module": "@jupyter-widgets/base",
          "model_name": "LayoutModel",
          "model_module_version": "1.2.0",
          "state": {
            "_model_module": "@jupyter-widgets/base",
            "_model_module_version": "1.2.0",
            "_model_name": "LayoutModel",
            "_view_count": null,
            "_view_module": "@jupyter-widgets/base",
            "_view_module_version": "1.2.0",
            "_view_name": "LayoutView",
            "align_content": null,
            "align_items": null,
            "align_self": null,
            "border": null,
            "bottom": null,
            "display": null,
            "flex": null,
            "flex_flow": null,
            "grid_area": null,
            "grid_auto_columns": null,
            "grid_auto_flow": null,
            "grid_auto_rows": null,
            "grid_column": null,
            "grid_gap": null,
            "grid_row": null,
            "grid_template_areas": null,
            "grid_template_columns": null,
            "grid_template_rows": null,
            "height": null,
            "justify_content": null,
            "justify_items": null,
            "left": null,
            "margin": null,
            "max_height": null,
            "max_width": null,
            "min_height": null,
            "min_width": null,
            "object_fit": null,
            "object_position": null,
            "order": null,
            "overflow": null,
            "overflow_x": null,
            "overflow_y": null,
            "padding": null,
            "right": null,
            "top": null,
            "visibility": null,
            "width": null
          }
        },
        "3ccf0a4cb7b041f4b66ad98ad50f6c9a": {
          "model_module": "@jupyter-widgets/controls",
          "model_name": "DescriptionStyleModel",
          "model_module_version": "1.5.0",
          "state": {
            "_model_module": "@jupyter-widgets/controls",
            "_model_module_version": "1.5.0",
            "_model_name": "DescriptionStyleModel",
            "_view_count": null,
            "_view_module": "@jupyter-widgets/base",
            "_view_module_version": "1.2.0",
            "_view_name": "StyleView",
            "description_width": ""
          }
        },
        "2abba0ffae744795923cdd4e63d09e8f": {
          "model_module": "@jupyter-widgets/controls",
          "model_name": "HBoxModel",
          "model_module_version": "1.5.0",
          "state": {
            "_dom_classes": [],
            "_model_module": "@jupyter-widgets/controls",
            "_model_module_version": "1.5.0",
            "_model_name": "HBoxModel",
            "_view_count": null,
            "_view_module": "@jupyter-widgets/controls",
            "_view_module_version": "1.5.0",
            "_view_name": "HBoxView",
            "box_style": "",
            "children": [
              "IPY_MODEL_03788039dcd2478f9136e31a18aa0451",
              "IPY_MODEL_61d8c9b65ff8482185026f2854b8100f",
              "IPY_MODEL_ab6c55e0684b4b39bec1543af7c96293"
            ],
            "layout": "IPY_MODEL_c1852dea86604f0bb5c6e91c885ba10a"
          }
        },
        "03788039dcd2478f9136e31a18aa0451": {
          "model_module": "@jupyter-widgets/controls",
          "model_name": "HTMLModel",
          "model_module_version": "1.5.0",
          "state": {
            "_dom_classes": [],
            "_model_module": "@jupyter-widgets/controls",
            "_model_module_version": "1.5.0",
            "_model_name": "HTMLModel",
            "_view_count": null,
            "_view_module": "@jupyter-widgets/controls",
            "_view_module_version": "1.5.0",
            "_view_name": "HTMLView",
            "description": "",
            "description_tooltip": null,
            "layout": "IPY_MODEL_8ad6b7fa4c9843f99a5051853f204678",
            "placeholder": "​",
            "style": "IPY_MODEL_b033c50b4a6f4933b312a3b599124aef",
            "value": "special_tokens_map.json: 100%"
          }
        },
        "61d8c9b65ff8482185026f2854b8100f": {
          "model_module": "@jupyter-widgets/controls",
          "model_name": "FloatProgressModel",
          "model_module_version": "1.5.0",
          "state": {
            "_dom_classes": [],
            "_model_module": "@jupyter-widgets/controls",
            "_model_module_version": "1.5.0",
            "_model_name": "FloatProgressModel",
            "_view_count": null,
            "_view_module": "@jupyter-widgets/controls",
            "_view_module_version": "1.5.0",
            "_view_name": "ProgressView",
            "bar_style": "success",
            "description": "",
            "description_tooltip": null,
            "layout": "IPY_MODEL_000ce162746d45bd93dd4caada72c94a",
            "max": 239,
            "min": 0,
            "orientation": "horizontal",
            "style": "IPY_MODEL_7ecadbdfac1a4f96b4b07c08b2b2cdf0",
            "value": 239
          }
        },
        "ab6c55e0684b4b39bec1543af7c96293": {
          "model_module": "@jupyter-widgets/controls",
          "model_name": "HTMLModel",
          "model_module_version": "1.5.0",
          "state": {
            "_dom_classes": [],
            "_model_module": "@jupyter-widgets/controls",
            "_model_module_version": "1.5.0",
            "_model_name": "HTMLModel",
            "_view_count": null,
            "_view_module": "@jupyter-widgets/controls",
            "_view_module_version": "1.5.0",
            "_view_name": "HTMLView",
            "description": "",
            "description_tooltip": null,
            "layout": "IPY_MODEL_81f7e4b4b47a401e8ed78e6c8b97bc67",
            "placeholder": "​",
            "style": "IPY_MODEL_35fe63e526374d2f8f23f3c40aeac4ac",
            "value": " 239/239 [00:00&lt;00:00, 22.3kB/s]"
          }
        },
        "c1852dea86604f0bb5c6e91c885ba10a": {
          "model_module": "@jupyter-widgets/base",
          "model_name": "LayoutModel",
          "model_module_version": "1.2.0",
          "state": {
            "_model_module": "@jupyter-widgets/base",
            "_model_module_version": "1.2.0",
            "_model_name": "LayoutModel",
            "_view_count": null,
            "_view_module": "@jupyter-widgets/base",
            "_view_module_version": "1.2.0",
            "_view_name": "LayoutView",
            "align_content": null,
            "align_items": null,
            "align_self": null,
            "border": null,
            "bottom": null,
            "display": null,
            "flex": null,
            "flex_flow": null,
            "grid_area": null,
            "grid_auto_columns": null,
            "grid_auto_flow": null,
            "grid_auto_rows": null,
            "grid_column": null,
            "grid_gap": null,
            "grid_row": null,
            "grid_template_areas": null,
            "grid_template_columns": null,
            "grid_template_rows": null,
            "height": null,
            "justify_content": null,
            "justify_items": null,
            "left": null,
            "margin": null,
            "max_height": null,
            "max_width": null,
            "min_height": null,
            "min_width": null,
            "object_fit": null,
            "object_position": null,
            "order": null,
            "overflow": null,
            "overflow_x": null,
            "overflow_y": null,
            "padding": null,
            "right": null,
            "top": null,
            "visibility": null,
            "width": null
          }
        },
        "8ad6b7fa4c9843f99a5051853f204678": {
          "model_module": "@jupyter-widgets/base",
          "model_name": "LayoutModel",
          "model_module_version": "1.2.0",
          "state": {
            "_model_module": "@jupyter-widgets/base",
            "_model_module_version": "1.2.0",
            "_model_name": "LayoutModel",
            "_view_count": null,
            "_view_module": "@jupyter-widgets/base",
            "_view_module_version": "1.2.0",
            "_view_name": "LayoutView",
            "align_content": null,
            "align_items": null,
            "align_self": null,
            "border": null,
            "bottom": null,
            "display": null,
            "flex": null,
            "flex_flow": null,
            "grid_area": null,
            "grid_auto_columns": null,
            "grid_auto_flow": null,
            "grid_auto_rows": null,
            "grid_column": null,
            "grid_gap": null,
            "grid_row": null,
            "grid_template_areas": null,
            "grid_template_columns": null,
            "grid_template_rows": null,
            "height": null,
            "justify_content": null,
            "justify_items": null,
            "left": null,
            "margin": null,
            "max_height": null,
            "max_width": null,
            "min_height": null,
            "min_width": null,
            "object_fit": null,
            "object_position": null,
            "order": null,
            "overflow": null,
            "overflow_x": null,
            "overflow_y": null,
            "padding": null,
            "right": null,
            "top": null,
            "visibility": null,
            "width": null
          }
        },
        "b033c50b4a6f4933b312a3b599124aef": {
          "model_module": "@jupyter-widgets/controls",
          "model_name": "DescriptionStyleModel",
          "model_module_version": "1.5.0",
          "state": {
            "_model_module": "@jupyter-widgets/controls",
            "_model_module_version": "1.5.0",
            "_model_name": "DescriptionStyleModel",
            "_view_count": null,
            "_view_module": "@jupyter-widgets/base",
            "_view_module_version": "1.2.0",
            "_view_name": "StyleView",
            "description_width": ""
          }
        },
        "000ce162746d45bd93dd4caada72c94a": {
          "model_module": "@jupyter-widgets/base",
          "model_name": "LayoutModel",
          "model_module_version": "1.2.0",
          "state": {
            "_model_module": "@jupyter-widgets/base",
            "_model_module_version": "1.2.0",
            "_model_name": "LayoutModel",
            "_view_count": null,
            "_view_module": "@jupyter-widgets/base",
            "_view_module_version": "1.2.0",
            "_view_name": "LayoutView",
            "align_content": null,
            "align_items": null,
            "align_self": null,
            "border": null,
            "bottom": null,
            "display": null,
            "flex": null,
            "flex_flow": null,
            "grid_area": null,
            "grid_auto_columns": null,
            "grid_auto_flow": null,
            "grid_auto_rows": null,
            "grid_column": null,
            "grid_gap": null,
            "grid_row": null,
            "grid_template_areas": null,
            "grid_template_columns": null,
            "grid_template_rows": null,
            "height": null,
            "justify_content": null,
            "justify_items": null,
            "left": null,
            "margin": null,
            "max_height": null,
            "max_width": null,
            "min_height": null,
            "min_width": null,
            "object_fit": null,
            "object_position": null,
            "order": null,
            "overflow": null,
            "overflow_x": null,
            "overflow_y": null,
            "padding": null,
            "right": null,
            "top": null,
            "visibility": null,
            "width": null
          }
        },
        "7ecadbdfac1a4f96b4b07c08b2b2cdf0": {
          "model_module": "@jupyter-widgets/controls",
          "model_name": "ProgressStyleModel",
          "model_module_version": "1.5.0",
          "state": {
            "_model_module": "@jupyter-widgets/controls",
            "_model_module_version": "1.5.0",
            "_model_name": "ProgressStyleModel",
            "_view_count": null,
            "_view_module": "@jupyter-widgets/base",
            "_view_module_version": "1.2.0",
            "_view_name": "StyleView",
            "bar_color": null,
            "description_width": ""
          }
        },
        "81f7e4b4b47a401e8ed78e6c8b97bc67": {
          "model_module": "@jupyter-widgets/base",
          "model_name": "LayoutModel",
          "model_module_version": "1.2.0",
          "state": {
            "_model_module": "@jupyter-widgets/base",
            "_model_module_version": "1.2.0",
            "_model_name": "LayoutModel",
            "_view_count": null,
            "_view_module": "@jupyter-widgets/base",
            "_view_module_version": "1.2.0",
            "_view_name": "LayoutView",
            "align_content": null,
            "align_items": null,
            "align_self": null,
            "border": null,
            "bottom": null,
            "display": null,
            "flex": null,
            "flex_flow": null,
            "grid_area": null,
            "grid_auto_columns": null,
            "grid_auto_flow": null,
            "grid_auto_rows": null,
            "grid_column": null,
            "grid_gap": null,
            "grid_row": null,
            "grid_template_areas": null,
            "grid_template_columns": null,
            "grid_template_rows": null,
            "height": null,
            "justify_content": null,
            "justify_items": null,
            "left": null,
            "margin": null,
            "max_height": null,
            "max_width": null,
            "min_height": null,
            "min_width": null,
            "object_fit": null,
            "object_position": null,
            "order": null,
            "overflow": null,
            "overflow_x": null,
            "overflow_y": null,
            "padding": null,
            "right": null,
            "top": null,
            "visibility": null,
            "width": null
          }
        },
        "35fe63e526374d2f8f23f3c40aeac4ac": {
          "model_module": "@jupyter-widgets/controls",
          "model_name": "DescriptionStyleModel",
          "model_module_version": "1.5.0",
          "state": {
            "_model_module": "@jupyter-widgets/controls",
            "_model_module_version": "1.5.0",
            "_model_name": "DescriptionStyleModel",
            "_view_count": null,
            "_view_module": "@jupyter-widgets/base",
            "_view_module_version": "1.2.0",
            "_view_name": "StyleView",
            "description_width": ""
          }
        },
        "2410c1714bf841c08c9bf43251975d5b": {
          "model_module": "@jupyter-widgets/controls",
          "model_name": "HBoxModel",
          "model_module_version": "1.5.0",
          "state": {
            "_dom_classes": [],
            "_model_module": "@jupyter-widgets/controls",
            "_model_module_version": "1.5.0",
            "_model_name": "HBoxModel",
            "_view_count": null,
            "_view_module": "@jupyter-widgets/controls",
            "_view_module_version": "1.5.0",
            "_view_name": "HBoxView",
            "box_style": "",
            "children": [
              "IPY_MODEL_c9334679e8f242c4a794de34f3238abb",
              "IPY_MODEL_9d1d4f88e7594a939aeba37ec714aa1c",
              "IPY_MODEL_ce6ab47e712a4a82a6097333c24bad90"
            ],
            "layout": "IPY_MODEL_5388e44eb97f41ce8444becd284ce057"
          }
        },
        "c9334679e8f242c4a794de34f3238abb": {
          "model_module": "@jupyter-widgets/controls",
          "model_name": "HTMLModel",
          "model_module_version": "1.5.0",
          "state": {
            "_dom_classes": [],
            "_model_module": "@jupyter-widgets/controls",
            "_model_module_version": "1.5.0",
            "_model_name": "HTMLModel",
            "_view_count": null,
            "_view_module": "@jupyter-widgets/controls",
            "_view_module_version": "1.5.0",
            "_view_name": "HTMLView",
            "description": "",
            "description_tooltip": null,
            "layout": "IPY_MODEL_5c0b00a9db894a2f8815a534f86af681",
            "placeholder": "​",
            "style": "IPY_MODEL_0567446aecd7438e881447cec305279c",
            "value": "config.json: 100%"
          }
        },
        "9d1d4f88e7594a939aeba37ec714aa1c": {
          "model_module": "@jupyter-widgets/controls",
          "model_name": "FloatProgressModel",
          "model_module_version": "1.5.0",
          "state": {
            "_dom_classes": [],
            "_model_module": "@jupyter-widgets/controls",
            "_model_module_version": "1.5.0",
            "_model_name": "FloatProgressModel",
            "_view_count": null,
            "_view_module": "@jupyter-widgets/controls",
            "_view_module_version": "1.5.0",
            "_view_name": "ProgressView",
            "bar_style": "success",
            "description": "",
            "description_tooltip": null,
            "layout": "IPY_MODEL_f038e973457147f3a04c0f5952f0c270",
            "max": 1453,
            "min": 0,
            "orientation": "horizontal",
            "style": "IPY_MODEL_b199c60090f843fdb14f169bd74cfa18",
            "value": 1453
          }
        },
        "ce6ab47e712a4a82a6097333c24bad90": {
          "model_module": "@jupyter-widgets/controls",
          "model_name": "HTMLModel",
          "model_module_version": "1.5.0",
          "state": {
            "_dom_classes": [],
            "_model_module": "@jupyter-widgets/controls",
            "_model_module_version": "1.5.0",
            "_model_name": "HTMLModel",
            "_view_count": null,
            "_view_module": "@jupyter-widgets/controls",
            "_view_module_version": "1.5.0",
            "_view_name": "HTMLView",
            "description": "",
            "description_tooltip": null,
            "layout": "IPY_MODEL_16f19431bf0f4173854213fc7a5e37c2",
            "placeholder": "​",
            "style": "IPY_MODEL_5d500855a868482ab17e2974e3800822",
            "value": " 1.45k/1.45k [00:00&lt;00:00, 122kB/s]"
          }
        },
        "5388e44eb97f41ce8444becd284ce057": {
          "model_module": "@jupyter-widgets/base",
          "model_name": "LayoutModel",
          "model_module_version": "1.2.0",
          "state": {
            "_model_module": "@jupyter-widgets/base",
            "_model_module_version": "1.2.0",
            "_model_name": "LayoutModel",
            "_view_count": null,
            "_view_module": "@jupyter-widgets/base",
            "_view_module_version": "1.2.0",
            "_view_name": "LayoutView",
            "align_content": null,
            "align_items": null,
            "align_self": null,
            "border": null,
            "bottom": null,
            "display": null,
            "flex": null,
            "flex_flow": null,
            "grid_area": null,
            "grid_auto_columns": null,
            "grid_auto_flow": null,
            "grid_auto_rows": null,
            "grid_column": null,
            "grid_gap": null,
            "grid_row": null,
            "grid_template_areas": null,
            "grid_template_columns": null,
            "grid_template_rows": null,
            "height": null,
            "justify_content": null,
            "justify_items": null,
            "left": null,
            "margin": null,
            "max_height": null,
            "max_width": null,
            "min_height": null,
            "min_width": null,
            "object_fit": null,
            "object_position": null,
            "order": null,
            "overflow": null,
            "overflow_x": null,
            "overflow_y": null,
            "padding": null,
            "right": null,
            "top": null,
            "visibility": null,
            "width": null
          }
        },
        "5c0b00a9db894a2f8815a534f86af681": {
          "model_module": "@jupyter-widgets/base",
          "model_name": "LayoutModel",
          "model_module_version": "1.2.0",
          "state": {
            "_model_module": "@jupyter-widgets/base",
            "_model_module_version": "1.2.0",
            "_model_name": "LayoutModel",
            "_view_count": null,
            "_view_module": "@jupyter-widgets/base",
            "_view_module_version": "1.2.0",
            "_view_name": "LayoutView",
            "align_content": null,
            "align_items": null,
            "align_self": null,
            "border": null,
            "bottom": null,
            "display": null,
            "flex": null,
            "flex_flow": null,
            "grid_area": null,
            "grid_auto_columns": null,
            "grid_auto_flow": null,
            "grid_auto_rows": null,
            "grid_column": null,
            "grid_gap": null,
            "grid_row": null,
            "grid_template_areas": null,
            "grid_template_columns": null,
            "grid_template_rows": null,
            "height": null,
            "justify_content": null,
            "justify_items": null,
            "left": null,
            "margin": null,
            "max_height": null,
            "max_width": null,
            "min_height": null,
            "min_width": null,
            "object_fit": null,
            "object_position": null,
            "order": null,
            "overflow": null,
            "overflow_x": null,
            "overflow_y": null,
            "padding": null,
            "right": null,
            "top": null,
            "visibility": null,
            "width": null
          }
        },
        "0567446aecd7438e881447cec305279c": {
          "model_module": "@jupyter-widgets/controls",
          "model_name": "DescriptionStyleModel",
          "model_module_version": "1.5.0",
          "state": {
            "_model_module": "@jupyter-widgets/controls",
            "_model_module_version": "1.5.0",
            "_model_name": "DescriptionStyleModel",
            "_view_count": null,
            "_view_module": "@jupyter-widgets/base",
            "_view_module_version": "1.2.0",
            "_view_name": "StyleView",
            "description_width": ""
          }
        },
        "f038e973457147f3a04c0f5952f0c270": {
          "model_module": "@jupyter-widgets/base",
          "model_name": "LayoutModel",
          "model_module_version": "1.2.0",
          "state": {
            "_model_module": "@jupyter-widgets/base",
            "_model_module_version": "1.2.0",
            "_model_name": "LayoutModel",
            "_view_count": null,
            "_view_module": "@jupyter-widgets/base",
            "_view_module_version": "1.2.0",
            "_view_name": "LayoutView",
            "align_content": null,
            "align_items": null,
            "align_self": null,
            "border": null,
            "bottom": null,
            "display": null,
            "flex": null,
            "flex_flow": null,
            "grid_area": null,
            "grid_auto_columns": null,
            "grid_auto_flow": null,
            "grid_auto_rows": null,
            "grid_column": null,
            "grid_gap": null,
            "grid_row": null,
            "grid_template_areas": null,
            "grid_template_columns": null,
            "grid_template_rows": null,
            "height": null,
            "justify_content": null,
            "justify_items": null,
            "left": null,
            "margin": null,
            "max_height": null,
            "max_width": null,
            "min_height": null,
            "min_width": null,
            "object_fit": null,
            "object_position": null,
            "order": null,
            "overflow": null,
            "overflow_x": null,
            "overflow_y": null,
            "padding": null,
            "right": null,
            "top": null,
            "visibility": null,
            "width": null
          }
        },
        "b199c60090f843fdb14f169bd74cfa18": {
          "model_module": "@jupyter-widgets/controls",
          "model_name": "ProgressStyleModel",
          "model_module_version": "1.5.0",
          "state": {
            "_model_module": "@jupyter-widgets/controls",
            "_model_module_version": "1.5.0",
            "_model_name": "ProgressStyleModel",
            "_view_count": null,
            "_view_module": "@jupyter-widgets/base",
            "_view_module_version": "1.2.0",
            "_view_name": "StyleView",
            "bar_color": null,
            "description_width": ""
          }
        },
        "16f19431bf0f4173854213fc7a5e37c2": {
          "model_module": "@jupyter-widgets/base",
          "model_name": "LayoutModel",
          "model_module_version": "1.2.0",
          "state": {
            "_model_module": "@jupyter-widgets/base",
            "_model_module_version": "1.2.0",
            "_model_name": "LayoutModel",
            "_view_count": null,
            "_view_module": "@jupyter-widgets/base",
            "_view_module_version": "1.2.0",
            "_view_name": "LayoutView",
            "align_content": null,
            "align_items": null,
            "align_self": null,
            "border": null,
            "bottom": null,
            "display": null,
            "flex": null,
            "flex_flow": null,
            "grid_area": null,
            "grid_auto_columns": null,
            "grid_auto_flow": null,
            "grid_auto_rows": null,
            "grid_column": null,
            "grid_gap": null,
            "grid_row": null,
            "grid_template_areas": null,
            "grid_template_columns": null,
            "grid_template_rows": null,
            "height": null,
            "justify_content": null,
            "justify_items": null,
            "left": null,
            "margin": null,
            "max_height": null,
            "max_width": null,
            "min_height": null,
            "min_width": null,
            "object_fit": null,
            "object_position": null,
            "order": null,
            "overflow": null,
            "overflow_x": null,
            "overflow_y": null,
            "padding": null,
            "right": null,
            "top": null,
            "visibility": null,
            "width": null
          }
        },
        "5d500855a868482ab17e2974e3800822": {
          "model_module": "@jupyter-widgets/controls",
          "model_name": "DescriptionStyleModel",
          "model_module_version": "1.5.0",
          "state": {
            "_model_module": "@jupyter-widgets/controls",
            "_model_module_version": "1.5.0",
            "_model_name": "DescriptionStyleModel",
            "_view_count": null,
            "_view_module": "@jupyter-widgets/base",
            "_view_module_version": "1.2.0",
            "_view_name": "StyleView",
            "description_width": ""
          }
        },
        "1e2f35872b514b1d95dd4d9e0f8b8c38": {
          "model_module": "@jupyter-widgets/controls",
          "model_name": "HBoxModel",
          "model_module_version": "1.5.0",
          "state": {
            "_dom_classes": [],
            "_model_module": "@jupyter-widgets/controls",
            "_model_module_version": "1.5.0",
            "_model_name": "HBoxModel",
            "_view_count": null,
            "_view_module": "@jupyter-widgets/controls",
            "_view_module_version": "1.5.0",
            "_view_name": "HBoxView",
            "box_style": "",
            "children": [
              "IPY_MODEL_51221e1dc44f4ceb87b8b3b9db122edc",
              "IPY_MODEL_0d47c7c459074e34aefede5849564eb3",
              "IPY_MODEL_32a209d430c14bcdb8cf1fb46ef948ba"
            ],
            "layout": "IPY_MODEL_b3db3cacff434fa2a458c980edfed1d8"
          }
        },
        "51221e1dc44f4ceb87b8b3b9db122edc": {
          "model_module": "@jupyter-widgets/controls",
          "model_name": "HTMLModel",
          "model_module_version": "1.5.0",
          "state": {
            "_dom_classes": [],
            "_model_module": "@jupyter-widgets/controls",
            "_model_module_version": "1.5.0",
            "_model_name": "HTMLModel",
            "_view_count": null,
            "_view_module": "@jupyter-widgets/controls",
            "_view_module_version": "1.5.0",
            "_view_name": "HTMLView",
            "description": "",
            "description_tooltip": null,
            "layout": "IPY_MODEL_230e2abc43d54b5685f3d9b7297e93b1",
            "placeholder": "​",
            "style": "IPY_MODEL_e6dd326c117b4194b0b06c1f2f1f0076",
            "value": "pytorch_model.bin: 100%"
          }
        },
        "0d47c7c459074e34aefede5849564eb3": {
          "model_module": "@jupyter-widgets/controls",
          "model_name": "FloatProgressModel",
          "model_module_version": "1.5.0",
          "state": {
            "_dom_classes": [],
            "_model_module": "@jupyter-widgets/controls",
            "_model_module_version": "1.5.0",
            "_model_name": "FloatProgressModel",
            "_view_count": null,
            "_view_module": "@jupyter-widgets/controls",
            "_view_module_version": "1.5.0",
            "_view_name": "ProgressView",
            "bar_style": "success",
            "description": "",
            "description_tooltip": null,
            "layout": "IPY_MODEL_d6bf04cf48fb4c6aaef69e4bdd36fced",
            "max": 495662867,
            "min": 0,
            "orientation": "horizontal",
            "style": "IPY_MODEL_cd797aa2fd74414fb7faf6b480750e7f",
            "value": 495662867
          }
        },
        "32a209d430c14bcdb8cf1fb46ef948ba": {
          "model_module": "@jupyter-widgets/controls",
          "model_name": "HTMLModel",
          "model_module_version": "1.5.0",
          "state": {
            "_dom_classes": [],
            "_model_module": "@jupyter-widgets/controls",
            "_model_module_version": "1.5.0",
            "_model_name": "HTMLModel",
            "_view_count": null,
            "_view_module": "@jupyter-widgets/controls",
            "_view_module_version": "1.5.0",
            "_view_name": "HTMLView",
            "description": "",
            "description_tooltip": null,
            "layout": "IPY_MODEL_69aa48c5615f4254a54a11d1ee7a6b65",
            "placeholder": "​",
            "style": "IPY_MODEL_d2dae5fb9433461b9d3132ff2b2ac894",
            "value": " 496M/496M [00:04&lt;00:00, 147MB/s]"
          }
        },
        "b3db3cacff434fa2a458c980edfed1d8": {
          "model_module": "@jupyter-widgets/base",
          "model_name": "LayoutModel",
          "model_module_version": "1.2.0",
          "state": {
            "_model_module": "@jupyter-widgets/base",
            "_model_module_version": "1.2.0",
            "_model_name": "LayoutModel",
            "_view_count": null,
            "_view_module": "@jupyter-widgets/base",
            "_view_module_version": "1.2.0",
            "_view_name": "LayoutView",
            "align_content": null,
            "align_items": null,
            "align_self": null,
            "border": null,
            "bottom": null,
            "display": null,
            "flex": null,
            "flex_flow": null,
            "grid_area": null,
            "grid_auto_columns": null,
            "grid_auto_flow": null,
            "grid_auto_rows": null,
            "grid_column": null,
            "grid_gap": null,
            "grid_row": null,
            "grid_template_areas": null,
            "grid_template_columns": null,
            "grid_template_rows": null,
            "height": null,
            "justify_content": null,
            "justify_items": null,
            "left": null,
            "margin": null,
            "max_height": null,
            "max_width": null,
            "min_height": null,
            "min_width": null,
            "object_fit": null,
            "object_position": null,
            "order": null,
            "overflow": null,
            "overflow_x": null,
            "overflow_y": null,
            "padding": null,
            "right": null,
            "top": null,
            "visibility": null,
            "width": null
          }
        },
        "230e2abc43d54b5685f3d9b7297e93b1": {
          "model_module": "@jupyter-widgets/base",
          "model_name": "LayoutModel",
          "model_module_version": "1.2.0",
          "state": {
            "_model_module": "@jupyter-widgets/base",
            "_model_module_version": "1.2.0",
            "_model_name": "LayoutModel",
            "_view_count": null,
            "_view_module": "@jupyter-widgets/base",
            "_view_module_version": "1.2.0",
            "_view_name": "LayoutView",
            "align_content": null,
            "align_items": null,
            "align_self": null,
            "border": null,
            "bottom": null,
            "display": null,
            "flex": null,
            "flex_flow": null,
            "grid_area": null,
            "grid_auto_columns": null,
            "grid_auto_flow": null,
            "grid_auto_rows": null,
            "grid_column": null,
            "grid_gap": null,
            "grid_row": null,
            "grid_template_areas": null,
            "grid_template_columns": null,
            "grid_template_rows": null,
            "height": null,
            "justify_content": null,
            "justify_items": null,
            "left": null,
            "margin": null,
            "max_height": null,
            "max_width": null,
            "min_height": null,
            "min_width": null,
            "object_fit": null,
            "object_position": null,
            "order": null,
            "overflow": null,
            "overflow_x": null,
            "overflow_y": null,
            "padding": null,
            "right": null,
            "top": null,
            "visibility": null,
            "width": null
          }
        },
        "e6dd326c117b4194b0b06c1f2f1f0076": {
          "model_module": "@jupyter-widgets/controls",
          "model_name": "DescriptionStyleModel",
          "model_module_version": "1.5.0",
          "state": {
            "_model_module": "@jupyter-widgets/controls",
            "_model_module_version": "1.5.0",
            "_model_name": "DescriptionStyleModel",
            "_view_count": null,
            "_view_module": "@jupyter-widgets/base",
            "_view_module_version": "1.2.0",
            "_view_name": "StyleView",
            "description_width": ""
          }
        },
        "d6bf04cf48fb4c6aaef69e4bdd36fced": {
          "model_module": "@jupyter-widgets/base",
          "model_name": "LayoutModel",
          "model_module_version": "1.2.0",
          "state": {
            "_model_module": "@jupyter-widgets/base",
            "_model_module_version": "1.2.0",
            "_model_name": "LayoutModel",
            "_view_count": null,
            "_view_module": "@jupyter-widgets/base",
            "_view_module_version": "1.2.0",
            "_view_name": "LayoutView",
            "align_content": null,
            "align_items": null,
            "align_self": null,
            "border": null,
            "bottom": null,
            "display": null,
            "flex": null,
            "flex_flow": null,
            "grid_area": null,
            "grid_auto_columns": null,
            "grid_auto_flow": null,
            "grid_auto_rows": null,
            "grid_column": null,
            "grid_gap": null,
            "grid_row": null,
            "grid_template_areas": null,
            "grid_template_columns": null,
            "grid_template_rows": null,
            "height": null,
            "justify_content": null,
            "justify_items": null,
            "left": null,
            "margin": null,
            "max_height": null,
            "max_width": null,
            "min_height": null,
            "min_width": null,
            "object_fit": null,
            "object_position": null,
            "order": null,
            "overflow": null,
            "overflow_x": null,
            "overflow_y": null,
            "padding": null,
            "right": null,
            "top": null,
            "visibility": null,
            "width": null
          }
        },
        "cd797aa2fd74414fb7faf6b480750e7f": {
          "model_module": "@jupyter-widgets/controls",
          "model_name": "ProgressStyleModel",
          "model_module_version": "1.5.0",
          "state": {
            "_model_module": "@jupyter-widgets/controls",
            "_model_module_version": "1.5.0",
            "_model_name": "ProgressStyleModel",
            "_view_count": null,
            "_view_module": "@jupyter-widgets/base",
            "_view_module_version": "1.2.0",
            "_view_name": "StyleView",
            "bar_color": null,
            "description_width": ""
          }
        },
        "69aa48c5615f4254a54a11d1ee7a6b65": {
          "model_module": "@jupyter-widgets/base",
          "model_name": "LayoutModel",
          "model_module_version": "1.2.0",
          "state": {
            "_model_module": "@jupyter-widgets/base",
            "_model_module_version": "1.2.0",
            "_model_name": "LayoutModel",
            "_view_count": null,
            "_view_module": "@jupyter-widgets/base",
            "_view_module_version": "1.2.0",
            "_view_name": "LayoutView",
            "align_content": null,
            "align_items": null,
            "align_self": null,
            "border": null,
            "bottom": null,
            "display": null,
            "flex": null,
            "flex_flow": null,
            "grid_area": null,
            "grid_auto_columns": null,
            "grid_auto_flow": null,
            "grid_auto_rows": null,
            "grid_column": null,
            "grid_gap": null,
            "grid_row": null,
            "grid_template_areas": null,
            "grid_template_columns": null,
            "grid_template_rows": null,
            "height": null,
            "justify_content": null,
            "justify_items": null,
            "left": null,
            "margin": null,
            "max_height": null,
            "max_width": null,
            "min_height": null,
            "min_width": null,
            "object_fit": null,
            "object_position": null,
            "order": null,
            "overflow": null,
            "overflow_x": null,
            "overflow_y": null,
            "padding": null,
            "right": null,
            "top": null,
            "visibility": null,
            "width": null
          }
        },
        "d2dae5fb9433461b9d3132ff2b2ac894": {
          "model_module": "@jupyter-widgets/controls",
          "model_name": "DescriptionStyleModel",
          "model_module_version": "1.5.0",
          "state": {
            "_model_module": "@jupyter-widgets/controls",
            "_model_module_version": "1.5.0",
            "_model_name": "DescriptionStyleModel",
            "_view_count": null,
            "_view_module": "@jupyter-widgets/base",
            "_view_module_version": "1.2.0",
            "_view_name": "StyleView",
            "description_width": ""
          }
        }
      }
    }
  },
  "nbformat": 4,
  "nbformat_minor": 5
}